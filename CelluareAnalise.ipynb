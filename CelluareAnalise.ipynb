{
  "cells": [
    {
      "cell_type": "markdown",
      "metadata": {
        "id": "wr6pYLD1yyjg"
      },
      "source": [
        "## **Работа по анализу данных сотового оператора и предложению стратегии по удержанию клиентов**"
      ]
    },
    {
      "cell_type": "markdown",
      "metadata": {
        "id": "BusFTuWhzAq2"
      },
      "source": [
        "Загружаем необходимые библиотеки для помощи в визуализации и анализа данных."
      ]
    },
    {
      "cell_type": "code",
      "execution_count": null,
      "metadata": {
        "id": "ZIV-4IMexuLl"
      },
      "outputs": [],
      "source": [
        "import pandas as pd\n",
        "import numpy as np\n",
        "import matplotlib.pyplot as plt\n",
        "from datetime import datetime\n",
        "#импорты из стандартной библиотеки\n",
        "import warnings\n",
        "\n",
        "#импорты модулей текущего проекта\n",
        "#длина строки до 78 символов\n",
        "##################################################\n",
        "import statsmodels.api as sm\n",
        "from scipy.stats import shapiro\n",
        "import seaborn as sns\n",
        "\n",
        "from sklearn.model_selection import train_test_split\n",
        "from sklearn.model_selection import GridSearchCV\n",
        "from sklearn.model_selection import cross_val_score\n",
        "from sklearn.preprocessing import StandardScaler\n",
        "from sklearn.linear_model import LinearRegression\n",
        "from sklearn.metrics import mean_absolute_error\n",
        "##################################################\n",
        "from sklearn.compose import make_column_transformer\n",
        "from sklearn.ensemble import RandomForestRegressor\n",
        "from sklearn.linear_model import Ridge\n",
        "from sklearn.metrics import mean_squared_error\n",
        "from sklearn.model_selection import (\n",
        "    GridSearchCV,\n",
        "    RandomizedSearchCV,\n",
        "    train_test_split\n",
        ")\n",
        "from sklearn.pipeline import make_pipeline\n",
        "from sklearn.preprocessing import (\n",
        "    OneHotEncoder,\n",
        "    OrdinalEncoder,\n",
        "    StandardScaler\n",
        ")\n",
        "\n",
        "#настройки\n",
        "warnings.filterwarnings(\"ignore\")\n",
        "\n",
        "from math import isnan\n",
        "\n",
        "#константы заглавными букваит\n",
        "RANDOM_STATE = 42\n",
        "import math\n",
        "from dateutil.relativedelta import *\n",
        "from dateutil.easter import *\n",
        "from dateutil.rrule import *\n",
        "from dateutil.parser import *\n",
        "from datetime import *\n",
        "\n",
        "\n",
        "import seaborn as sns\n",
        "import tensorflow as tf\n",
        "\n",
        "\n",
        "from keras.models import Sequential\n",
        "from keras.layers import Dense\n",
        "\n",
        "from sklearn.cluster import KMeans\n",
        "\n",
        "from sklearn.metrics import accuracy_score, precision_score, recall_score, f1_score\n",
        "from sklearn.linear_model import LogisticRegression\n",
        "from sklearn.model_selection import train_test_split\n",
        "from sklearn.metrics import accuracy_score, precision_score, recall_score, f1_score\n",
        "\n",
        "from sklearn.ensemble import RandomForestClassifier\n",
        "\n",
        "\n",
        "from sklearn.impute import KNNImputer\n",
        "\n",
        "from sklearn.utils import resample\n",
        "\n",
        "from sklearn.preprocessing import StandardScaler\n",
        "\n",
        "\n",
        "\n",
        "from sklearn.ensemble import IsolationForest\n",
        "\n",
        "from sklearn.metrics import classification_report\n",
        "\n",
        "from sklearn.metrics import confusion_matrix\n",
        "\n",
        "from sklearn.model_selection import GridSearchCV\n",
        "\n",
        "\n",
        "from sklearn.ensemble import GradientBoostingClassifier\n",
        "\n",
        "from sklearn.metrics import roc_auc_score"
      ]
    },
    {
      "cell_type": "markdown",
      "source": [
        "Этот код использует библиотеку Google Colab для подключения к Google Drive и монтирования его как файловую систему внутри среды выполнения Colab."
      ],
      "metadata": {
        "id": "vhytmXFNKNYQ"
      }
    },
    {
      "cell_type": "code",
      "execution_count": null,
      "metadata": {
        "colab": {
          "base_uri": "https://localhost:8080/"
        },
        "id": "qBCGGhjiUxs2",
        "outputId": "28ed8f8e-c55a-4c34-cf26-1d901e9e4d8f"
      },
      "outputs": [
        {
          "output_type": "stream",
          "name": "stdout",
          "text": [
            "Drive already mounted at /content/drive; to attempt to forcibly remount, call drive.mount(\"/content/drive\", force_remount=True).\n"
          ]
        }
      ],
      "source": [
        "from google.colab import drive\n",
        "drive.mount('/content/drive')"
      ]
    },
    {
      "cell_type": "markdown",
      "metadata": {
        "id": "GOlHYP-BzLxx"
      },
      "source": [
        "Этот код использует библиотеку Pandas для чтения файла в формате CSV, находящегося в папке \"final_provider\" на Google Drive, в переменную \"contra\"."
      ]
    },
    {
      "cell_type": "code",
      "execution_count": null,
      "metadata": {
        "id": "yG7VidZSVJLy",
        "colab": {
          "base_uri": "https://localhost:8080/",
          "height": 179
        },
        "outputId": "eb8860f7-b799-41a6-e019-f700fde01833"
      },
      "outputs": [
        {
          "output_type": "error",
          "ename": "NameError",
          "evalue": "ignored",
          "traceback": [
            "\u001b[0;31m---------------------------------------------------------------------------\u001b[0m",
            "\u001b[0;31mNameError\u001b[0m                                 Traceback (most recent call last)",
            "\u001b[0;32m<ipython-input-2-1a8a66ccdcd4>\u001b[0m in \u001b[0;36m<cell line: 1>\u001b[0;34m()\u001b[0m\n\u001b[0;32m----> 1\u001b[0;31m \u001b[0mcontra\u001b[0m \u001b[0;34m=\u001b[0m\u001b[0mpd\u001b[0m\u001b[0;34m.\u001b[0m\u001b[0mread_csv\u001b[0m\u001b[0;34m(\u001b[0m\u001b[0;34m'/content/drive/MyDrive/final_provider/Nets.txt'\u001b[0m\u001b[0;34m,\u001b[0m \u001b[0mdelimiter\u001b[0m\u001b[0;34m=\u001b[0m\u001b[0;34m','\u001b[0m\u001b[0;34m)\u001b[0m\u001b[0;34m\u001b[0m\u001b[0;34m\u001b[0m\u001b[0m\n\u001b[0m",
            "\u001b[0;31mNameError\u001b[0m: name 'pd' is not defined"
          ]
        }
      ],
      "source": [
        "contra =pd.read_csv('/content/drive/MyDrive/final_provider/contract.csv', delimiter=',')"
      ]
    },
    {
      "cell_type": "code",
      "execution_count": null,
      "metadata": {
        "id": "147N2cX-hnCY"
      },
      "outputs": [],
      "source": [
        "#contra =pd.read_csv('contract.csv', delimiter=',')"
      ]
    },
    {
      "cell_type": "markdown",
      "metadata": {
        "id": "6_u6TEvY9tVQ"
      },
      "source": [
        "Список Задач:\n",
        "\n",
        "Заменить тип данных  \n",
        "\n",
        "Добавить Значений\n",
        "\n",
        "Изменить дату на нереальное значение, которое будет больше конечного\n",
        "\n",
        "Объединить все таблицы и решить проблему с нехваткой данных"
      ]
    },
    {
      "cell_type": "markdown",
      "metadata": {
        "id": "we9KbatYze4f"
      },
      "source": [
        "Просмотрим, что находится внутри наших таблиц.\n",
        "Как данные, так и просто анализ того, сколько данных уже лежит в таблице.\n"
      ]
    },
    {
      "cell_type": "code",
      "execution_count": null,
      "metadata": {
        "colab": {
          "base_uri": "https://localhost:8080/",
          "height": 300
        },
        "id": "Mte8ukPv4V6P",
        "outputId": "77c8df85-f70d-4f6c-bcdb-c7f53e408571"
      },
      "outputs": [
        {
          "output_type": "execute_result",
          "data": {
            "text/plain": [
              "       MonthlyCharges\n",
              "count     7043.000000\n",
              "mean        64.761692\n",
              "std         30.090047\n",
              "min         18.250000\n",
              "25%         35.500000\n",
              "50%         70.350000\n",
              "75%         89.850000\n",
              "max        118.750000"
            ],
            "text/html": [
              "\n",
              "  <div id=\"df-a3040dae-78e1-4c1a-bbdc-2342f8d4112d\">\n",
              "    <div class=\"colab-df-container\">\n",
              "      <div>\n",
              "<style scoped>\n",
              "    .dataframe tbody tr th:only-of-type {\n",
              "        vertical-align: middle;\n",
              "    }\n",
              "\n",
              "    .dataframe tbody tr th {\n",
              "        vertical-align: top;\n",
              "    }\n",
              "\n",
              "    .dataframe thead th {\n",
              "        text-align: right;\n",
              "    }\n",
              "</style>\n",
              "<table border=\"1\" class=\"dataframe\">\n",
              "  <thead>\n",
              "    <tr style=\"text-align: right;\">\n",
              "      <th></th>\n",
              "      <th>MonthlyCharges</th>\n",
              "    </tr>\n",
              "  </thead>\n",
              "  <tbody>\n",
              "    <tr>\n",
              "      <th>count</th>\n",
              "      <td>7043.000000</td>\n",
              "    </tr>\n",
              "    <tr>\n",
              "      <th>mean</th>\n",
              "      <td>64.761692</td>\n",
              "    </tr>\n",
              "    <tr>\n",
              "      <th>std</th>\n",
              "      <td>30.090047</td>\n",
              "    </tr>\n",
              "    <tr>\n",
              "      <th>min</th>\n",
              "      <td>18.250000</td>\n",
              "    </tr>\n",
              "    <tr>\n",
              "      <th>25%</th>\n",
              "      <td>35.500000</td>\n",
              "    </tr>\n",
              "    <tr>\n",
              "      <th>50%</th>\n",
              "      <td>70.350000</td>\n",
              "    </tr>\n",
              "    <tr>\n",
              "      <th>75%</th>\n",
              "      <td>89.850000</td>\n",
              "    </tr>\n",
              "    <tr>\n",
              "      <th>max</th>\n",
              "      <td>118.750000</td>\n",
              "    </tr>\n",
              "  </tbody>\n",
              "</table>\n",
              "</div>\n",
              "      <button class=\"colab-df-convert\" onclick=\"convertToInteractive('df-a3040dae-78e1-4c1a-bbdc-2342f8d4112d')\"\n",
              "              title=\"Convert this dataframe to an interactive table.\"\n",
              "              style=\"display:none;\">\n",
              "        \n",
              "  <svg xmlns=\"http://www.w3.org/2000/svg\" height=\"24px\"viewBox=\"0 0 24 24\"\n",
              "       width=\"24px\">\n",
              "    <path d=\"M0 0h24v24H0V0z\" fill=\"none\"/>\n",
              "    <path d=\"M18.56 5.44l.94 2.06.94-2.06 2.06-.94-2.06-.94-.94-2.06-.94 2.06-2.06.94zm-11 1L8.5 8.5l.94-2.06 2.06-.94-2.06-.94L8.5 2.5l-.94 2.06-2.06.94zm10 10l.94 2.06.94-2.06 2.06-.94-2.06-.94-.94-2.06-.94 2.06-2.06.94z\"/><path d=\"M17.41 7.96l-1.37-1.37c-.4-.4-.92-.59-1.43-.59-.52 0-1.04.2-1.43.59L10.3 9.45l-7.72 7.72c-.78.78-.78 2.05 0 2.83L4 21.41c.39.39.9.59 1.41.59.51 0 1.02-.2 1.41-.59l7.78-7.78 2.81-2.81c.8-.78.8-2.07 0-2.86zM5.41 20L4 18.59l7.72-7.72 1.47 1.35L5.41 20z\"/>\n",
              "  </svg>\n",
              "      </button>\n",
              "      \n",
              "  <style>\n",
              "    .colab-df-container {\n",
              "      display:flex;\n",
              "      flex-wrap:wrap;\n",
              "      gap: 12px;\n",
              "    }\n",
              "\n",
              "    .colab-df-convert {\n",
              "      background-color: #E8F0FE;\n",
              "      border: none;\n",
              "      border-radius: 50%;\n",
              "      cursor: pointer;\n",
              "      display: none;\n",
              "      fill: #1967D2;\n",
              "      height: 32px;\n",
              "      padding: 0 0 0 0;\n",
              "      width: 32px;\n",
              "    }\n",
              "\n",
              "    .colab-df-convert:hover {\n",
              "      background-color: #E2EBFA;\n",
              "      box-shadow: 0px 1px 2px rgba(60, 64, 67, 0.3), 0px 1px 3px 1px rgba(60, 64, 67, 0.15);\n",
              "      fill: #174EA6;\n",
              "    }\n",
              "\n",
              "    [theme=dark] .colab-df-convert {\n",
              "      background-color: #3B4455;\n",
              "      fill: #D2E3FC;\n",
              "    }\n",
              "\n",
              "    [theme=dark] .colab-df-convert:hover {\n",
              "      background-color: #434B5C;\n",
              "      box-shadow: 0px 1px 3px 1px rgba(0, 0, 0, 0.15);\n",
              "      filter: drop-shadow(0px 1px 2px rgba(0, 0, 0, 0.3));\n",
              "      fill: #FFFFFF;\n",
              "    }\n",
              "  </style>\n",
              "\n",
              "      <script>\n",
              "        const buttonEl =\n",
              "          document.querySelector('#df-a3040dae-78e1-4c1a-bbdc-2342f8d4112d button.colab-df-convert');\n",
              "        buttonEl.style.display =\n",
              "          google.colab.kernel.accessAllowed ? 'block' : 'none';\n",
              "\n",
              "        async function convertToInteractive(key) {\n",
              "          const element = document.querySelector('#df-a3040dae-78e1-4c1a-bbdc-2342f8d4112d');\n",
              "          const dataTable =\n",
              "            await google.colab.kernel.invokeFunction('convertToInteractive',\n",
              "                                                     [key], {});\n",
              "          if (!dataTable) return;\n",
              "\n",
              "          const docLinkHtml = 'Like what you see? Visit the ' +\n",
              "            '<a target=\"_blank\" href=https://colab.research.google.com/notebooks/data_table.ipynb>data table notebook</a>'\n",
              "            + ' to learn more about interactive tables.';\n",
              "          element.innerHTML = '';\n",
              "          dataTable['output_type'] = 'display_data';\n",
              "          await google.colab.output.renderOutput(dataTable, element);\n",
              "          const docLink = document.createElement('div');\n",
              "          docLink.innerHTML = docLinkHtml;\n",
              "          element.appendChild(docLink);\n",
              "        }\n",
              "      </script>\n",
              "    </div>\n",
              "  </div>\n",
              "  "
            ]
          },
          "metadata": {},
          "execution_count": 498
        }
      ],
      "source": [
        "contra.describe()"
      ]
    },
    {
      "cell_type": "markdown",
      "source": [
        "Этот код использует метод \"info()\" объекта Pandas DataFrame (в данном случае \"contra\"), чтобы вывести общую информацию о структуре и содержании данных в таблице.\n",
        "\n",
        "Этот метод выводит следующую информацию:\n",
        "\n",
        "    Количество строк и столбцов в таблице\n",
        "    Имена столбцов и типы данных каждого столбца\n",
        "    Количество непустых значений в каждом столбце\n",
        "    Общее количество используемой памяти таблицей"
      ],
      "metadata": {
        "id": "rqhxMNlkKwWY"
      }
    },
    {
      "cell_type": "code",
      "execution_count": null,
      "metadata": {
        "colab": {
          "base_uri": "https://localhost:8080/"
        },
        "id": "icvqKwtNyWl0",
        "outputId": "506731be-9179-46b7-9348-34773c599a91"
      },
      "outputs": [
        {
          "output_type": "stream",
          "name": "stdout",
          "text": [
            "<class 'pandas.core.frame.DataFrame'>\n",
            "RangeIndex: 7043 entries, 0 to 7042\n",
            "Data columns (total 8 columns):\n",
            " #   Column            Non-Null Count  Dtype  \n",
            "---  ------            --------------  -----  \n",
            " 0   customerID        7043 non-null   object \n",
            " 1   BeginDate         7043 non-null   object \n",
            " 2   EndDate           7043 non-null   object \n",
            " 3   Type              7043 non-null   object \n",
            " 4   PaperlessBilling  7043 non-null   object \n",
            " 5   PaymentMethod     7043 non-null   object \n",
            " 6   MonthlyCharges    7043 non-null   float64\n",
            " 7   TotalCharges      7043 non-null   object \n",
            "dtypes: float64(1), object(7)\n",
            "memory usage: 440.3+ KB\n"
          ]
        }
      ],
      "source": [
        "contra.head(5)\n",
        "contra.describe()\n",
        "contra.dtypes\n",
        "contra.info()"
      ]
    },
    {
      "cell_type": "markdown",
      "source": [
        "Выводит первые 5 строк нашего датасета."
      ],
      "metadata": {
        "id": "CKYIiax-Kzcz"
      }
    },
    {
      "cell_type": "code",
      "execution_count": null,
      "metadata": {
        "colab": {
          "base_uri": "https://localhost:8080/",
          "height": 206
        },
        "id": "oUz2dd6p3soW",
        "outputId": "f8b50c3c-408c-471d-d642-eb4f36dc3e32"
      },
      "outputs": [
        {
          "output_type": "execute_result",
          "data": {
            "text/plain": [
              "   customerID   BeginDate              EndDate            Type  \\\n",
              "0  7590-VHVEG  2020-01-01                   No  Month-to-month   \n",
              "1  5575-GNVDE  2017-04-01                   No        One year   \n",
              "2  3668-QPYBK  2019-10-01  2019-12-01 00:00:00  Month-to-month   \n",
              "3  7795-CFOCW  2016-05-01                   No        One year   \n",
              "4  9237-HQITU  2019-09-01  2019-11-01 00:00:00  Month-to-month   \n",
              "\n",
              "  PaperlessBilling              PaymentMethod  MonthlyCharges TotalCharges  \n",
              "0              Yes           Electronic check           29.85        29.85  \n",
              "1               No               Mailed check           56.95       1889.5  \n",
              "2              Yes               Mailed check           53.85       108.15  \n",
              "3               No  Bank transfer (automatic)           42.30      1840.75  \n",
              "4              Yes           Electronic check           70.70       151.65  "
            ],
            "text/html": [
              "\n",
              "  <div id=\"df-29d238f2-7eb2-4c3f-b608-c2bf0f90144c\">\n",
              "    <div class=\"colab-df-container\">\n",
              "      <div>\n",
              "<style scoped>\n",
              "    .dataframe tbody tr th:only-of-type {\n",
              "        vertical-align: middle;\n",
              "    }\n",
              "\n",
              "    .dataframe tbody tr th {\n",
              "        vertical-align: top;\n",
              "    }\n",
              "\n",
              "    .dataframe thead th {\n",
              "        text-align: right;\n",
              "    }\n",
              "</style>\n",
              "<table border=\"1\" class=\"dataframe\">\n",
              "  <thead>\n",
              "    <tr style=\"text-align: right;\">\n",
              "      <th></th>\n",
              "      <th>customerID</th>\n",
              "      <th>BeginDate</th>\n",
              "      <th>EndDate</th>\n",
              "      <th>Type</th>\n",
              "      <th>PaperlessBilling</th>\n",
              "      <th>PaymentMethod</th>\n",
              "      <th>MonthlyCharges</th>\n",
              "      <th>TotalCharges</th>\n",
              "    </tr>\n",
              "  </thead>\n",
              "  <tbody>\n",
              "    <tr>\n",
              "      <th>0</th>\n",
              "      <td>7590-VHVEG</td>\n",
              "      <td>2020-01-01</td>\n",
              "      <td>No</td>\n",
              "      <td>Month-to-month</td>\n",
              "      <td>Yes</td>\n",
              "      <td>Electronic check</td>\n",
              "      <td>29.85</td>\n",
              "      <td>29.85</td>\n",
              "    </tr>\n",
              "    <tr>\n",
              "      <th>1</th>\n",
              "      <td>5575-GNVDE</td>\n",
              "      <td>2017-04-01</td>\n",
              "      <td>No</td>\n",
              "      <td>One year</td>\n",
              "      <td>No</td>\n",
              "      <td>Mailed check</td>\n",
              "      <td>56.95</td>\n",
              "      <td>1889.5</td>\n",
              "    </tr>\n",
              "    <tr>\n",
              "      <th>2</th>\n",
              "      <td>3668-QPYBK</td>\n",
              "      <td>2019-10-01</td>\n",
              "      <td>2019-12-01 00:00:00</td>\n",
              "      <td>Month-to-month</td>\n",
              "      <td>Yes</td>\n",
              "      <td>Mailed check</td>\n",
              "      <td>53.85</td>\n",
              "      <td>108.15</td>\n",
              "    </tr>\n",
              "    <tr>\n",
              "      <th>3</th>\n",
              "      <td>7795-CFOCW</td>\n",
              "      <td>2016-05-01</td>\n",
              "      <td>No</td>\n",
              "      <td>One year</td>\n",
              "      <td>No</td>\n",
              "      <td>Bank transfer (automatic)</td>\n",
              "      <td>42.30</td>\n",
              "      <td>1840.75</td>\n",
              "    </tr>\n",
              "    <tr>\n",
              "      <th>4</th>\n",
              "      <td>9237-HQITU</td>\n",
              "      <td>2019-09-01</td>\n",
              "      <td>2019-11-01 00:00:00</td>\n",
              "      <td>Month-to-month</td>\n",
              "      <td>Yes</td>\n",
              "      <td>Electronic check</td>\n",
              "      <td>70.70</td>\n",
              "      <td>151.65</td>\n",
              "    </tr>\n",
              "  </tbody>\n",
              "</table>\n",
              "</div>\n",
              "      <button class=\"colab-df-convert\" onclick=\"convertToInteractive('df-29d238f2-7eb2-4c3f-b608-c2bf0f90144c')\"\n",
              "              title=\"Convert this dataframe to an interactive table.\"\n",
              "              style=\"display:none;\">\n",
              "        \n",
              "  <svg xmlns=\"http://www.w3.org/2000/svg\" height=\"24px\"viewBox=\"0 0 24 24\"\n",
              "       width=\"24px\">\n",
              "    <path d=\"M0 0h24v24H0V0z\" fill=\"none\"/>\n",
              "    <path d=\"M18.56 5.44l.94 2.06.94-2.06 2.06-.94-2.06-.94-.94-2.06-.94 2.06-2.06.94zm-11 1L8.5 8.5l.94-2.06 2.06-.94-2.06-.94L8.5 2.5l-.94 2.06-2.06.94zm10 10l.94 2.06.94-2.06 2.06-.94-2.06-.94-.94-2.06-.94 2.06-2.06.94z\"/><path d=\"M17.41 7.96l-1.37-1.37c-.4-.4-.92-.59-1.43-.59-.52 0-1.04.2-1.43.59L10.3 9.45l-7.72 7.72c-.78.78-.78 2.05 0 2.83L4 21.41c.39.39.9.59 1.41.59.51 0 1.02-.2 1.41-.59l7.78-7.78 2.81-2.81c.8-.78.8-2.07 0-2.86zM5.41 20L4 18.59l7.72-7.72 1.47 1.35L5.41 20z\"/>\n",
              "  </svg>\n",
              "      </button>\n",
              "      \n",
              "  <style>\n",
              "    .colab-df-container {\n",
              "      display:flex;\n",
              "      flex-wrap:wrap;\n",
              "      gap: 12px;\n",
              "    }\n",
              "\n",
              "    .colab-df-convert {\n",
              "      background-color: #E8F0FE;\n",
              "      border: none;\n",
              "      border-radius: 50%;\n",
              "      cursor: pointer;\n",
              "      display: none;\n",
              "      fill: #1967D2;\n",
              "      height: 32px;\n",
              "      padding: 0 0 0 0;\n",
              "      width: 32px;\n",
              "    }\n",
              "\n",
              "    .colab-df-convert:hover {\n",
              "      background-color: #E2EBFA;\n",
              "      box-shadow: 0px 1px 2px rgba(60, 64, 67, 0.3), 0px 1px 3px 1px rgba(60, 64, 67, 0.15);\n",
              "      fill: #174EA6;\n",
              "    }\n",
              "\n",
              "    [theme=dark] .colab-df-convert {\n",
              "      background-color: #3B4455;\n",
              "      fill: #D2E3FC;\n",
              "    }\n",
              "\n",
              "    [theme=dark] .colab-df-convert:hover {\n",
              "      background-color: #434B5C;\n",
              "      box-shadow: 0px 1px 3px 1px rgba(0, 0, 0, 0.15);\n",
              "      filter: drop-shadow(0px 1px 2px rgba(0, 0, 0, 0.3));\n",
              "      fill: #FFFFFF;\n",
              "    }\n",
              "  </style>\n",
              "\n",
              "      <script>\n",
              "        const buttonEl =\n",
              "          document.querySelector('#df-29d238f2-7eb2-4c3f-b608-c2bf0f90144c button.colab-df-convert');\n",
              "        buttonEl.style.display =\n",
              "          google.colab.kernel.accessAllowed ? 'block' : 'none';\n",
              "\n",
              "        async function convertToInteractive(key) {\n",
              "          const element = document.querySelector('#df-29d238f2-7eb2-4c3f-b608-c2bf0f90144c');\n",
              "          const dataTable =\n",
              "            await google.colab.kernel.invokeFunction('convertToInteractive',\n",
              "                                                     [key], {});\n",
              "          if (!dataTable) return;\n",
              "\n",
              "          const docLinkHtml = 'Like what you see? Visit the ' +\n",
              "            '<a target=\"_blank\" href=https://colab.research.google.com/notebooks/data_table.ipynb>data table notebook</a>'\n",
              "            + ' to learn more about interactive tables.';\n",
              "          element.innerHTML = '';\n",
              "          dataTable['output_type'] = 'display_data';\n",
              "          await google.colab.output.renderOutput(dataTable, element);\n",
              "          const docLink = document.createElement('div');\n",
              "          docLink.innerHTML = docLinkHtml;\n",
              "          element.appendChild(docLink);\n",
              "        }\n",
              "      </script>\n",
              "    </div>\n",
              "  </div>\n",
              "  "
            ]
          },
          "metadata": {},
          "execution_count": 500
        }
      ],
      "source": [
        "contra.head(5)"
      ]
    },
    {
      "cell_type": "markdown",
      "metadata": {
        "id": "yDNYBB4ST8i7"
      },
      "source": [
        "У нас есть в EndDate такое уникальное значение, как No, то есть клиент обладает безсрочным доступом. Это необходим нам зафиксировать, создав  отдельную колонку Target для записи этих значений."
      ]
    },
    {
      "cell_type": "markdown",
      "source": [
        "Если у клиента есть дата окончания контракта и эта дата прошла, то можно считать, что клиент ушел. Если же дата окончания контракта еще не наступила, то клиент еще не ушел."
      ],
      "metadata": {
        "id": "nwBIjSxhFxy4"
      }
    },
    {
      "cell_type": "markdown",
      "source": [
        "Этот код использует метод \"insert()\" объекта Pandas DataFrame (в данном случае \"contra\"), чтобы добавить новый столбец \"Target\" на 3-ю позицию в таблице. Новый столбец будет заполнен значением \"1\" для каждой строки таблицы."
      ],
      "metadata": {
        "id": "81hpYvsQLGLV"
      }
    },
    {
      "cell_type": "code",
      "execution_count": null,
      "metadata": {
        "id": "7YoZVxc5P3Me"
      },
      "outputs": [],
      "source": [
        "contra.insert(3, \"Target\",1 , True)"
      ]
    },
    {
      "cell_type": "markdown",
      "source": [
        "Этот код использует цикл \"for\" для прохода по каждой строке таблицы \"contra\" и проверки значения столбца \"EndDate\" для каждой строки.\n",
        "\n",
        "Если значение столбца \"EndDate\" равно 'No', то значение в столбце \"Target\" для этой строки устанавливается на 1. В противном случае (если значение в столбце \"EndDate\" не равно 'No'), значение в столбце \"Target\" устанавливается на 0."
      ],
      "metadata": {
        "id": "YBOscKxfLIfv"
      }
    },
    {
      "cell_type": "code",
      "execution_count": null,
      "metadata": {
        "id": "N_d6dIvgRe69"
      },
      "outputs": [],
      "source": [
        "for i in range(len(contra)):\n",
        "  if contra['EndDate'][i] == 'No':\n",
        "    contra['Target'][i] = 1\n",
        "  else:\n",
        "    contra['Target'][i] = 0"
      ]
    },
    {
      "cell_type": "markdown",
      "source": [
        "Этот код использует метод \"replace()\" объекта Pandas Series (в данном случае \"contra['EndDate']\"), чтобы заменить все значения в столбце \"EndDate\", которые равны 'No', на значение '2022-02-01 00:00:00'."
      ],
      "metadata": {
        "id": "DYGZhOEsLdF_"
      }
    },
    {
      "cell_type": "code",
      "execution_count": null,
      "metadata": {
        "id": "N2ZtsPmHSHVC"
      },
      "outputs": [],
      "source": [
        "contra['EndDate'].replace('No', '2022-02-01 00:00:00', inplace=True)"
      ]
    },
    {
      "cell_type": "markdown",
      "metadata": {
        "id": "LC94l3BgS5on"
      },
      "source": [
        "Так мы удалим пропуски и заменим их приемлимыми значениями для столбца TotalCharge"
      ]
    },
    {
      "cell_type": "code",
      "execution_count": null,
      "metadata": {
        "id": "2sKKgRZcA3zI"
      },
      "outputs": [],
      "source": [
        "for i in range(len(contra)):\n",
        "  if contra['TotalCharges'][i] == ' ':\n",
        "    enddate = parse(contra['EndDate'][i]).date()\n",
        "    begindate = parse(contra['BeginDate'][i]).date()\n",
        "    contra['TotalCharges'][i] = (enddate.month - begindate.month + enddate.year * 12 - begindate.year * 12) * contra['MonthlyCharges'][i]"
      ]
    },
    {
      "cell_type": "markdown",
      "metadata": {
        "id": "jEl3afYbSaIo"
      },
      "source": [
        "Меняем тип данных на дату."
      ]
    },
    {
      "cell_type": "code",
      "execution_count": null,
      "metadata": {
        "id": "ESC2fctRA7fH"
      },
      "outputs": [],
      "source": [
        "contra['EndDate'] = contra['EndDate'].astype('datetime64[ns]')\n",
        "contra['BeginDate'] = contra['BeginDate'].astype('datetime64[ns]')\n"
      ]
    },
    {
      "cell_type": "markdown",
      "metadata": {
        "id": "3jgqC2dtSre4"
      },
      "source": [
        "Проверка на то, что у нас нет пропусков в последнем столбце."
      ]
    },
    {
      "cell_type": "code",
      "execution_count": null,
      "metadata": {
        "colab": {
          "base_uri": "https://localhost:8080/",
          "height": 49
        },
        "id": "3e-j5O_KSlxP",
        "outputId": "8a865453-4b4e-460a-a8d2-47bc66169a24"
      },
      "outputs": [
        {
          "output_type": "execute_result",
          "data": {
            "text/plain": [
              "Empty DataFrame\n",
              "Columns: [customerID, BeginDate, EndDate, Target, Type, PaperlessBilling, PaymentMethod, MonthlyCharges, TotalCharges]\n",
              "Index: []"
            ],
            "text/html": [
              "\n",
              "  <div id=\"df-e09cbc5c-5985-4615-bc5c-bb606c732e93\">\n",
              "    <div class=\"colab-df-container\">\n",
              "      <div>\n",
              "<style scoped>\n",
              "    .dataframe tbody tr th:only-of-type {\n",
              "        vertical-align: middle;\n",
              "    }\n",
              "\n",
              "    .dataframe tbody tr th {\n",
              "        vertical-align: top;\n",
              "    }\n",
              "\n",
              "    .dataframe thead th {\n",
              "        text-align: right;\n",
              "    }\n",
              "</style>\n",
              "<table border=\"1\" class=\"dataframe\">\n",
              "  <thead>\n",
              "    <tr style=\"text-align: right;\">\n",
              "      <th></th>\n",
              "      <th>customerID</th>\n",
              "      <th>BeginDate</th>\n",
              "      <th>EndDate</th>\n",
              "      <th>Target</th>\n",
              "      <th>Type</th>\n",
              "      <th>PaperlessBilling</th>\n",
              "      <th>PaymentMethod</th>\n",
              "      <th>MonthlyCharges</th>\n",
              "      <th>TotalCharges</th>\n",
              "    </tr>\n",
              "  </thead>\n",
              "  <tbody>\n",
              "  </tbody>\n",
              "</table>\n",
              "</div>\n",
              "      <button class=\"colab-df-convert\" onclick=\"convertToInteractive('df-e09cbc5c-5985-4615-bc5c-bb606c732e93')\"\n",
              "              title=\"Convert this dataframe to an interactive table.\"\n",
              "              style=\"display:none;\">\n",
              "        \n",
              "  <svg xmlns=\"http://www.w3.org/2000/svg\" height=\"24px\"viewBox=\"0 0 24 24\"\n",
              "       width=\"24px\">\n",
              "    <path d=\"M0 0h24v24H0V0z\" fill=\"none\"/>\n",
              "    <path d=\"M18.56 5.44l.94 2.06.94-2.06 2.06-.94-2.06-.94-.94-2.06-.94 2.06-2.06.94zm-11 1L8.5 8.5l.94-2.06 2.06-.94-2.06-.94L8.5 2.5l-.94 2.06-2.06.94zm10 10l.94 2.06.94-2.06 2.06-.94-2.06-.94-.94-2.06-.94 2.06-2.06.94z\"/><path d=\"M17.41 7.96l-1.37-1.37c-.4-.4-.92-.59-1.43-.59-.52 0-1.04.2-1.43.59L10.3 9.45l-7.72 7.72c-.78.78-.78 2.05 0 2.83L4 21.41c.39.39.9.59 1.41.59.51 0 1.02-.2 1.41-.59l7.78-7.78 2.81-2.81c.8-.78.8-2.07 0-2.86zM5.41 20L4 18.59l7.72-7.72 1.47 1.35L5.41 20z\"/>\n",
              "  </svg>\n",
              "      </button>\n",
              "      \n",
              "  <style>\n",
              "    .colab-df-container {\n",
              "      display:flex;\n",
              "      flex-wrap:wrap;\n",
              "      gap: 12px;\n",
              "    }\n",
              "\n",
              "    .colab-df-convert {\n",
              "      background-color: #E8F0FE;\n",
              "      border: none;\n",
              "      border-radius: 50%;\n",
              "      cursor: pointer;\n",
              "      display: none;\n",
              "      fill: #1967D2;\n",
              "      height: 32px;\n",
              "      padding: 0 0 0 0;\n",
              "      width: 32px;\n",
              "    }\n",
              "\n",
              "    .colab-df-convert:hover {\n",
              "      background-color: #E2EBFA;\n",
              "      box-shadow: 0px 1px 2px rgba(60, 64, 67, 0.3), 0px 1px 3px 1px rgba(60, 64, 67, 0.15);\n",
              "      fill: #174EA6;\n",
              "    }\n",
              "\n",
              "    [theme=dark] .colab-df-convert {\n",
              "      background-color: #3B4455;\n",
              "      fill: #D2E3FC;\n",
              "    }\n",
              "\n",
              "    [theme=dark] .colab-df-convert:hover {\n",
              "      background-color: #434B5C;\n",
              "      box-shadow: 0px 1px 3px 1px rgba(0, 0, 0, 0.15);\n",
              "      filter: drop-shadow(0px 1px 2px rgba(0, 0, 0, 0.3));\n",
              "      fill: #FFFFFF;\n",
              "    }\n",
              "  </style>\n",
              "\n",
              "      <script>\n",
              "        const buttonEl =\n",
              "          document.querySelector('#df-e09cbc5c-5985-4615-bc5c-bb606c732e93 button.colab-df-convert');\n",
              "        buttonEl.style.display =\n",
              "          google.colab.kernel.accessAllowed ? 'block' : 'none';\n",
              "\n",
              "        async function convertToInteractive(key) {\n",
              "          const element = document.querySelector('#df-e09cbc5c-5985-4615-bc5c-bb606c732e93');\n",
              "          const dataTable =\n",
              "            await google.colab.kernel.invokeFunction('convertToInteractive',\n",
              "                                                     [key], {});\n",
              "          if (!dataTable) return;\n",
              "\n",
              "          const docLinkHtml = 'Like what you see? Visit the ' +\n",
              "            '<a target=\"_blank\" href=https://colab.research.google.com/notebooks/data_table.ipynb>data table notebook</a>'\n",
              "            + ' to learn more about interactive tables.';\n",
              "          element.innerHTML = '';\n",
              "          dataTable['output_type'] = 'display_data';\n",
              "          await google.colab.output.renderOutput(dataTable, element);\n",
              "          const docLink = document.createElement('div');\n",
              "          docLink.innerHTML = docLinkHtml;\n",
              "          element.appendChild(docLink);\n",
              "        }\n",
              "      </script>\n",
              "    </div>\n",
              "  </div>\n",
              "  "
            ]
          },
          "metadata": {},
          "execution_count": 506
        }
      ],
      "source": [
        "contra.loc[((contra['TotalCharges'] == \" \" )) ]"
      ]
    },
    {
      "cell_type": "markdown",
      "metadata": {
        "id": "YO8b9VgUzwl7"
      },
      "source": [
        "После того, как мы проанализировали таблицы, мы обнаружили нехватку данных в некоторых столбцах. Также мы подметили, что некоторые данные находятся в неудобном состоянии или в нечитабельном виде, как для нас, так и для машины, которая будет считывать данные дальше. Для этого мы заменим и добавим недостающие данные в наши таблицы для завершения работы над анализом и предосмотром наших БД с данными.\n"
      ]
    },
    {
      "cell_type": "code",
      "execution_count": null,
      "metadata": {
        "id": "9-ss4laxh6zN"
      },
      "outputs": [],
      "source": [
        "contra['Type'].replace(['Month-to-month','One year','Two year'],[0,1,2],inplace=True)\n",
        "contra['PaperlessBilling'].replace(['No','Yes'],[0,1],inplace=True)\n",
        "contra['PaymentMethod'].replace(['Electronic check','Mailed check','Bank transfer (automatic)','Credit card (automatic)'],[0,1,2,3],inplace=True)\n",
        "contra['TotalCharges'].replace(' ', \"0\", inplace=True)"
      ]
    },
    {
      "cell_type": "markdown",
      "metadata": {
        "id": "A-kWaUeq0dx8"
      },
      "source": [
        "Также мы заменим наши данные на необходимый нам тип данных для дальнейшей работы."
      ]
    },
    {
      "cell_type": "markdown",
      "source": [
        "Код, который вы представили, изменяет тип данных в разных столбцах таблицы \"contra\". Это делается для того, чтобы привести значения в столбцах к нужному типу данных для дальнейшей обработки и анализа.\n",
        "\n",
        "  contra['Type'].astype(object).astype(int) - этот код преобразует значения в столбце \"Type\" из типа данных object в тип данных int. Возможно, это нужно для того, чтобы выполнить математические операции с значениями в этом столбце.\n",
        "\n",
        "  contra['PaymentMethod'].astype(object).astype(bool) - этот код преобразует значения в столбце \"PaymentMethod\" из типа данных object в тип данных bool. Возможно, это нужно для того, чтобы выполнить логические операции с значениями в этом столбце.\n",
        "\n",
        "  contra['TotalCharges'] = contra['TotalCharges'].astype(float) - этот код преобразует значения в столбце \"TotalCharges\" из типа данных object в тип данных float. Возможно, это нужно для того, чтобы выполнить математические операции с значениями в этом столбце."
      ],
      "metadata": {
        "id": "tgevNpl0PTYr"
      }
    },
    {
      "cell_type": "code",
      "execution_count": null,
      "metadata": {
        "id": "_kAFTBgFjBYe"
      },
      "outputs": [],
      "source": [
        "contra['Type'].astype(object).astype(int)\n",
        "contra['PaymentMethod'].astype(object).astype(bool)\n",
        "contra['Type'].astype(object).astype(int)\n",
        "contra['TotalCharges'] = contra['TotalCharges'].astype(float)"
      ]
    },
    {
      "cell_type": "markdown",
      "metadata": {
        "id": "e_b3GGkQ0n1j"
      },
      "source": [
        "Просмотрим, что у нас в интересующих Столбцах (Type, PaperlessBilling, PaymentMethod) находятся только те данные, которые нам нужны для дальнейшей работы."
      ]
    },
    {
      "cell_type": "code",
      "execution_count": null,
      "metadata": {
        "colab": {
          "base_uri": "https://localhost:8080/"
        },
        "id": "LiZ3m0Mxh6va",
        "outputId": "bc83d581-90e3-4165-9b08-a2f36dea1667"
      },
      "outputs": [
        {
          "output_type": "stream",
          "name": "stdout",
          "text": [
            "[0 1 2]\n",
            "[1 0]\n",
            "[0 1 2 3]\n"
          ]
        }
      ],
      "source": [
        "print(contra.Type.unique())\n",
        "print(contra.PaperlessBilling.unique())\n",
        "print(contra.PaymentMethod.unique())"
      ]
    },
    {
      "cell_type": "markdown",
      "metadata": {
        "id": "DrkGfZVC01s-"
      },
      "source": [
        "Еще одна проверка того, что у нас данные заменились с пустых строк на заполненные.\n"
      ]
    },
    {
      "cell_type": "code",
      "execution_count": null,
      "metadata": {
        "id": "07MLXaHKvaI8",
        "colab": {
          "base_uri": "https://localhost:8080/",
          "height": 49
        },
        "outputId": "2fbc08ea-a2b4-44e5-d4c4-e808c64d4380"
      },
      "outputs": [
        {
          "output_type": "execute_result",
          "data": {
            "text/plain": [
              "Empty DataFrame\n",
              "Columns: [customerID, BeginDate, EndDate, Target, Type, PaperlessBilling, PaymentMethod, MonthlyCharges, TotalCharges]\n",
              "Index: []"
            ],
            "text/html": [
              "\n",
              "  <div id=\"df-645109da-80b5-4780-9a28-1f0212135043\">\n",
              "    <div class=\"colab-df-container\">\n",
              "      <div>\n",
              "<style scoped>\n",
              "    .dataframe tbody tr th:only-of-type {\n",
              "        vertical-align: middle;\n",
              "    }\n",
              "\n",
              "    .dataframe tbody tr th {\n",
              "        vertical-align: top;\n",
              "    }\n",
              "\n",
              "    .dataframe thead th {\n",
              "        text-align: right;\n",
              "    }\n",
              "</style>\n",
              "<table border=\"1\" class=\"dataframe\">\n",
              "  <thead>\n",
              "    <tr style=\"text-align: right;\">\n",
              "      <th></th>\n",
              "      <th>customerID</th>\n",
              "      <th>BeginDate</th>\n",
              "      <th>EndDate</th>\n",
              "      <th>Target</th>\n",
              "      <th>Type</th>\n",
              "      <th>PaperlessBilling</th>\n",
              "      <th>PaymentMethod</th>\n",
              "      <th>MonthlyCharges</th>\n",
              "      <th>TotalCharges</th>\n",
              "    </tr>\n",
              "  </thead>\n",
              "  <tbody>\n",
              "  </tbody>\n",
              "</table>\n",
              "</div>\n",
              "      <button class=\"colab-df-convert\" onclick=\"convertToInteractive('df-645109da-80b5-4780-9a28-1f0212135043')\"\n",
              "              title=\"Convert this dataframe to an interactive table.\"\n",
              "              style=\"display:none;\">\n",
              "        \n",
              "  <svg xmlns=\"http://www.w3.org/2000/svg\" height=\"24px\"viewBox=\"0 0 24 24\"\n",
              "       width=\"24px\">\n",
              "    <path d=\"M0 0h24v24H0V0z\" fill=\"none\"/>\n",
              "    <path d=\"M18.56 5.44l.94 2.06.94-2.06 2.06-.94-2.06-.94-.94-2.06-.94 2.06-2.06.94zm-11 1L8.5 8.5l.94-2.06 2.06-.94-2.06-.94L8.5 2.5l-.94 2.06-2.06.94zm10 10l.94 2.06.94-2.06 2.06-.94-2.06-.94-.94-2.06-.94 2.06-2.06.94z\"/><path d=\"M17.41 7.96l-1.37-1.37c-.4-.4-.92-.59-1.43-.59-.52 0-1.04.2-1.43.59L10.3 9.45l-7.72 7.72c-.78.78-.78 2.05 0 2.83L4 21.41c.39.39.9.59 1.41.59.51 0 1.02-.2 1.41-.59l7.78-7.78 2.81-2.81c.8-.78.8-2.07 0-2.86zM5.41 20L4 18.59l7.72-7.72 1.47 1.35L5.41 20z\"/>\n",
              "  </svg>\n",
              "      </button>\n",
              "      \n",
              "  <style>\n",
              "    .colab-df-container {\n",
              "      display:flex;\n",
              "      flex-wrap:wrap;\n",
              "      gap: 12px;\n",
              "    }\n",
              "\n",
              "    .colab-df-convert {\n",
              "      background-color: #E8F0FE;\n",
              "      border: none;\n",
              "      border-radius: 50%;\n",
              "      cursor: pointer;\n",
              "      display: none;\n",
              "      fill: #1967D2;\n",
              "      height: 32px;\n",
              "      padding: 0 0 0 0;\n",
              "      width: 32px;\n",
              "    }\n",
              "\n",
              "    .colab-df-convert:hover {\n",
              "      background-color: #E2EBFA;\n",
              "      box-shadow: 0px 1px 2px rgba(60, 64, 67, 0.3), 0px 1px 3px 1px rgba(60, 64, 67, 0.15);\n",
              "      fill: #174EA6;\n",
              "    }\n",
              "\n",
              "    [theme=dark] .colab-df-convert {\n",
              "      background-color: #3B4455;\n",
              "      fill: #D2E3FC;\n",
              "    }\n",
              "\n",
              "    [theme=dark] .colab-df-convert:hover {\n",
              "      background-color: #434B5C;\n",
              "      box-shadow: 0px 1px 3px 1px rgba(0, 0, 0, 0.15);\n",
              "      filter: drop-shadow(0px 1px 2px rgba(0, 0, 0, 0.3));\n",
              "      fill: #FFFFFF;\n",
              "    }\n",
              "  </style>\n",
              "\n",
              "      <script>\n",
              "        const buttonEl =\n",
              "          document.querySelector('#df-645109da-80b5-4780-9a28-1f0212135043 button.colab-df-convert');\n",
              "        buttonEl.style.display =\n",
              "          google.colab.kernel.accessAllowed ? 'block' : 'none';\n",
              "\n",
              "        async function convertToInteractive(key) {\n",
              "          const element = document.querySelector('#df-645109da-80b5-4780-9a28-1f0212135043');\n",
              "          const dataTable =\n",
              "            await google.colab.kernel.invokeFunction('convertToInteractive',\n",
              "                                                     [key], {});\n",
              "          if (!dataTable) return;\n",
              "\n",
              "          const docLinkHtml = 'Like what you see? Visit the ' +\n",
              "            '<a target=\"_blank\" href=https://colab.research.google.com/notebooks/data_table.ipynb>data table notebook</a>'\n",
              "            + ' to learn more about interactive tables.';\n",
              "          element.innerHTML = '';\n",
              "          dataTable['output_type'] = 'display_data';\n",
              "          await google.colab.output.renderOutput(dataTable, element);\n",
              "          const docLink = document.createElement('div');\n",
              "          docLink.innerHTML = docLinkHtml;\n",
              "          element.appendChild(docLink);\n",
              "        }\n",
              "      </script>\n",
              "    </div>\n",
              "  </div>\n",
              "  "
            ]
          },
          "metadata": {},
          "execution_count": 510
        }
      ],
      "source": [
        "#contra['TotalCharges'].replace(' ', \"0\", inplace=True)\n",
        "contra.loc[((contra['TotalCharges'] == \"0\" )) ]\n"
      ]
    },
    {
      "cell_type": "markdown",
      "source": [
        "Посмотрим, есть ли у нас пропуски в данных?"
      ],
      "metadata": {
        "id": "gmysJEdv7GOc"
      }
    },
    {
      "cell_type": "code",
      "execution_count": null,
      "metadata": {
        "colab": {
          "base_uri": "https://localhost:8080/"
        },
        "id": "f8o6NSKQA14T",
        "outputId": "dfecf455-743b-4fe1-94c7-6d251dfa9250"
      },
      "outputs": [
        {
          "output_type": "execute_result",
          "data": {
            "text/plain": [
              "customerID          0\n",
              "BeginDate           0\n",
              "EndDate             0\n",
              "Target              0\n",
              "Type                0\n",
              "PaperlessBilling    0\n",
              "PaymentMethod       0\n",
              "MonthlyCharges      0\n",
              "TotalCharges        0\n",
              "dtype: int64"
            ]
          },
          "metadata": {},
          "execution_count": 511
        }
      ],
      "source": [
        "contra.isnull().sum()"
      ]
    },
    {
      "cell_type": "markdown",
      "metadata": {
        "id": "VzLTDGdJTsiZ"
      },
      "source": [
        "Смотрим нашу конечную проработанную БД."
      ]
    },
    {
      "cell_type": "code",
      "execution_count": null,
      "metadata": {
        "colab": {
          "base_uri": "https://localhost:8080/",
          "height": 206
        },
        "id": "Un5INGHbTpA3",
        "outputId": "fbcf5146-83c8-49e7-d1c5-8f4e873f890a"
      },
      "outputs": [
        {
          "output_type": "execute_result",
          "data": {
            "text/plain": [
              "   customerID  BeginDate    EndDate  Target  Type  PaperlessBilling  \\\n",
              "0  7590-VHVEG 2020-01-01 2022-02-01       1     0                 1   \n",
              "1  5575-GNVDE 2017-04-01 2022-02-01       1     1                 0   \n",
              "2  3668-QPYBK 2019-10-01 2019-12-01       0     0                 1   \n",
              "3  7795-CFOCW 2016-05-01 2022-02-01       1     1                 0   \n",
              "4  9237-HQITU 2019-09-01 2019-11-01       0     0                 1   \n",
              "\n",
              "   PaymentMethod  MonthlyCharges  TotalCharges  \n",
              "0              0           29.85         29.85  \n",
              "1              1           56.95       1889.50  \n",
              "2              1           53.85        108.15  \n",
              "3              2           42.30       1840.75  \n",
              "4              0           70.70        151.65  "
            ],
            "text/html": [
              "\n",
              "  <div id=\"df-dbcbd7fc-2dfa-4f15-a71a-4148046730db\">\n",
              "    <div class=\"colab-df-container\">\n",
              "      <div>\n",
              "<style scoped>\n",
              "    .dataframe tbody tr th:only-of-type {\n",
              "        vertical-align: middle;\n",
              "    }\n",
              "\n",
              "    .dataframe tbody tr th {\n",
              "        vertical-align: top;\n",
              "    }\n",
              "\n",
              "    .dataframe thead th {\n",
              "        text-align: right;\n",
              "    }\n",
              "</style>\n",
              "<table border=\"1\" class=\"dataframe\">\n",
              "  <thead>\n",
              "    <tr style=\"text-align: right;\">\n",
              "      <th></th>\n",
              "      <th>customerID</th>\n",
              "      <th>BeginDate</th>\n",
              "      <th>EndDate</th>\n",
              "      <th>Target</th>\n",
              "      <th>Type</th>\n",
              "      <th>PaperlessBilling</th>\n",
              "      <th>PaymentMethod</th>\n",
              "      <th>MonthlyCharges</th>\n",
              "      <th>TotalCharges</th>\n",
              "    </tr>\n",
              "  </thead>\n",
              "  <tbody>\n",
              "    <tr>\n",
              "      <th>0</th>\n",
              "      <td>7590-VHVEG</td>\n",
              "      <td>2020-01-01</td>\n",
              "      <td>2022-02-01</td>\n",
              "      <td>1</td>\n",
              "      <td>0</td>\n",
              "      <td>1</td>\n",
              "      <td>0</td>\n",
              "      <td>29.85</td>\n",
              "      <td>29.85</td>\n",
              "    </tr>\n",
              "    <tr>\n",
              "      <th>1</th>\n",
              "      <td>5575-GNVDE</td>\n",
              "      <td>2017-04-01</td>\n",
              "      <td>2022-02-01</td>\n",
              "      <td>1</td>\n",
              "      <td>1</td>\n",
              "      <td>0</td>\n",
              "      <td>1</td>\n",
              "      <td>56.95</td>\n",
              "      <td>1889.50</td>\n",
              "    </tr>\n",
              "    <tr>\n",
              "      <th>2</th>\n",
              "      <td>3668-QPYBK</td>\n",
              "      <td>2019-10-01</td>\n",
              "      <td>2019-12-01</td>\n",
              "      <td>0</td>\n",
              "      <td>0</td>\n",
              "      <td>1</td>\n",
              "      <td>1</td>\n",
              "      <td>53.85</td>\n",
              "      <td>108.15</td>\n",
              "    </tr>\n",
              "    <tr>\n",
              "      <th>3</th>\n",
              "      <td>7795-CFOCW</td>\n",
              "      <td>2016-05-01</td>\n",
              "      <td>2022-02-01</td>\n",
              "      <td>1</td>\n",
              "      <td>1</td>\n",
              "      <td>0</td>\n",
              "      <td>2</td>\n",
              "      <td>42.30</td>\n",
              "      <td>1840.75</td>\n",
              "    </tr>\n",
              "    <tr>\n",
              "      <th>4</th>\n",
              "      <td>9237-HQITU</td>\n",
              "      <td>2019-09-01</td>\n",
              "      <td>2019-11-01</td>\n",
              "      <td>0</td>\n",
              "      <td>0</td>\n",
              "      <td>1</td>\n",
              "      <td>0</td>\n",
              "      <td>70.70</td>\n",
              "      <td>151.65</td>\n",
              "    </tr>\n",
              "  </tbody>\n",
              "</table>\n",
              "</div>\n",
              "      <button class=\"colab-df-convert\" onclick=\"convertToInteractive('df-dbcbd7fc-2dfa-4f15-a71a-4148046730db')\"\n",
              "              title=\"Convert this dataframe to an interactive table.\"\n",
              "              style=\"display:none;\">\n",
              "        \n",
              "  <svg xmlns=\"http://www.w3.org/2000/svg\" height=\"24px\"viewBox=\"0 0 24 24\"\n",
              "       width=\"24px\">\n",
              "    <path d=\"M0 0h24v24H0V0z\" fill=\"none\"/>\n",
              "    <path d=\"M18.56 5.44l.94 2.06.94-2.06 2.06-.94-2.06-.94-.94-2.06-.94 2.06-2.06.94zm-11 1L8.5 8.5l.94-2.06 2.06-.94-2.06-.94L8.5 2.5l-.94 2.06-2.06.94zm10 10l.94 2.06.94-2.06 2.06-.94-2.06-.94-.94-2.06-.94 2.06-2.06.94z\"/><path d=\"M17.41 7.96l-1.37-1.37c-.4-.4-.92-.59-1.43-.59-.52 0-1.04.2-1.43.59L10.3 9.45l-7.72 7.72c-.78.78-.78 2.05 0 2.83L4 21.41c.39.39.9.59 1.41.59.51 0 1.02-.2 1.41-.59l7.78-7.78 2.81-2.81c.8-.78.8-2.07 0-2.86zM5.41 20L4 18.59l7.72-7.72 1.47 1.35L5.41 20z\"/>\n",
              "  </svg>\n",
              "      </button>\n",
              "      \n",
              "  <style>\n",
              "    .colab-df-container {\n",
              "      display:flex;\n",
              "      flex-wrap:wrap;\n",
              "      gap: 12px;\n",
              "    }\n",
              "\n",
              "    .colab-df-convert {\n",
              "      background-color: #E8F0FE;\n",
              "      border: none;\n",
              "      border-radius: 50%;\n",
              "      cursor: pointer;\n",
              "      display: none;\n",
              "      fill: #1967D2;\n",
              "      height: 32px;\n",
              "      padding: 0 0 0 0;\n",
              "      width: 32px;\n",
              "    }\n",
              "\n",
              "    .colab-df-convert:hover {\n",
              "      background-color: #E2EBFA;\n",
              "      box-shadow: 0px 1px 2px rgba(60, 64, 67, 0.3), 0px 1px 3px 1px rgba(60, 64, 67, 0.15);\n",
              "      fill: #174EA6;\n",
              "    }\n",
              "\n",
              "    [theme=dark] .colab-df-convert {\n",
              "      background-color: #3B4455;\n",
              "      fill: #D2E3FC;\n",
              "    }\n",
              "\n",
              "    [theme=dark] .colab-df-convert:hover {\n",
              "      background-color: #434B5C;\n",
              "      box-shadow: 0px 1px 3px 1px rgba(0, 0, 0, 0.15);\n",
              "      filter: drop-shadow(0px 1px 2px rgba(0, 0, 0, 0.3));\n",
              "      fill: #FFFFFF;\n",
              "    }\n",
              "  </style>\n",
              "\n",
              "      <script>\n",
              "        const buttonEl =\n",
              "          document.querySelector('#df-dbcbd7fc-2dfa-4f15-a71a-4148046730db button.colab-df-convert');\n",
              "        buttonEl.style.display =\n",
              "          google.colab.kernel.accessAllowed ? 'block' : 'none';\n",
              "\n",
              "        async function convertToInteractive(key) {\n",
              "          const element = document.querySelector('#df-dbcbd7fc-2dfa-4f15-a71a-4148046730db');\n",
              "          const dataTable =\n",
              "            await google.colab.kernel.invokeFunction('convertToInteractive',\n",
              "                                                     [key], {});\n",
              "          if (!dataTable) return;\n",
              "\n",
              "          const docLinkHtml = 'Like what you see? Visit the ' +\n",
              "            '<a target=\"_blank\" href=https://colab.research.google.com/notebooks/data_table.ipynb>data table notebook</a>'\n",
              "            + ' to learn more about interactive tables.';\n",
              "          element.innerHTML = '';\n",
              "          dataTable['output_type'] = 'display_data';\n",
              "          await google.colab.output.renderOutput(dataTable, element);\n",
              "          const docLink = document.createElement('div');\n",
              "          docLink.innerHTML = docLinkHtml;\n",
              "          element.appendChild(docLink);\n",
              "        }\n",
              "      </script>\n",
              "    </div>\n",
              "  </div>\n",
              "  "
            ]
          },
          "metadata": {},
          "execution_count": 512
        }
      ],
      "source": [
        "contra.head(5)"
      ]
    },
    {
      "cell_type": "markdown",
      "metadata": {
        "id": "13ImGs2h1jOW"
      },
      "source": [
        "Считываем все остальные БД и проделываем с ними все те же операции, что и с прошлой БД."
      ]
    },
    {
      "cell_type": "code",
      "execution_count": null,
      "metadata": {
        "id": "EUt0aqSYWDDz"
      },
      "outputs": [],
      "source": [
        "inter=pd.read_csv('/content/drive/MyDrive/final_provider/internet.csv', delimiter=',')"
      ]
    },
    {
      "cell_type": "code",
      "execution_count": null,
      "metadata": {
        "id": "80z4ynO2x6aS"
      },
      "outputs": [],
      "source": [
        "#inter =pd.read_csv('internet.csv', delimiter=',')"
      ]
    },
    {
      "cell_type": "code",
      "execution_count": null,
      "metadata": {
        "colab": {
          "base_uri": "https://localhost:8080/",
          "height": 659
        },
        "id": "MhrmJCcDzN_m",
        "outputId": "b6aca70e-49a7-4b2d-d14d-356e0ee697a8"
      },
      "outputs": [
        {
          "output_type": "display_data",
          "data": {
            "text/plain": [
              "   customerID InternetService OnlineSecurity OnlineBackup DeviceProtection  \\\n",
              "0  7590-VHVEG             DSL             No          Yes               No   \n",
              "1  5575-GNVDE             DSL            Yes           No              Yes   \n",
              "2  3668-QPYBK             DSL            Yes          Yes               No   \n",
              "3  7795-CFOCW             DSL            Yes           No              Yes   \n",
              "4  9237-HQITU     Fiber optic             No           No               No   \n",
              "\n",
              "  TechSupport StreamingTV StreamingMovies  \n",
              "0          No          No              No  \n",
              "1          No          No              No  \n",
              "2          No          No              No  \n",
              "3         Yes          No              No  \n",
              "4          No          No              No  "
            ],
            "text/html": [
              "\n",
              "  <div id=\"df-8ecbebdf-b84e-4e2b-98e3-e94afd7dc02d\">\n",
              "    <div class=\"colab-df-container\">\n",
              "      <div>\n",
              "<style scoped>\n",
              "    .dataframe tbody tr th:only-of-type {\n",
              "        vertical-align: middle;\n",
              "    }\n",
              "\n",
              "    .dataframe tbody tr th {\n",
              "        vertical-align: top;\n",
              "    }\n",
              "\n",
              "    .dataframe thead th {\n",
              "        text-align: right;\n",
              "    }\n",
              "</style>\n",
              "<table border=\"1\" class=\"dataframe\">\n",
              "  <thead>\n",
              "    <tr style=\"text-align: right;\">\n",
              "      <th></th>\n",
              "      <th>customerID</th>\n",
              "      <th>InternetService</th>\n",
              "      <th>OnlineSecurity</th>\n",
              "      <th>OnlineBackup</th>\n",
              "      <th>DeviceProtection</th>\n",
              "      <th>TechSupport</th>\n",
              "      <th>StreamingTV</th>\n",
              "      <th>StreamingMovies</th>\n",
              "    </tr>\n",
              "  </thead>\n",
              "  <tbody>\n",
              "    <tr>\n",
              "      <th>0</th>\n",
              "      <td>7590-VHVEG</td>\n",
              "      <td>DSL</td>\n",
              "      <td>No</td>\n",
              "      <td>Yes</td>\n",
              "      <td>No</td>\n",
              "      <td>No</td>\n",
              "      <td>No</td>\n",
              "      <td>No</td>\n",
              "    </tr>\n",
              "    <tr>\n",
              "      <th>1</th>\n",
              "      <td>5575-GNVDE</td>\n",
              "      <td>DSL</td>\n",
              "      <td>Yes</td>\n",
              "      <td>No</td>\n",
              "      <td>Yes</td>\n",
              "      <td>No</td>\n",
              "      <td>No</td>\n",
              "      <td>No</td>\n",
              "    </tr>\n",
              "    <tr>\n",
              "      <th>2</th>\n",
              "      <td>3668-QPYBK</td>\n",
              "      <td>DSL</td>\n",
              "      <td>Yes</td>\n",
              "      <td>Yes</td>\n",
              "      <td>No</td>\n",
              "      <td>No</td>\n",
              "      <td>No</td>\n",
              "      <td>No</td>\n",
              "    </tr>\n",
              "    <tr>\n",
              "      <th>3</th>\n",
              "      <td>7795-CFOCW</td>\n",
              "      <td>DSL</td>\n",
              "      <td>Yes</td>\n",
              "      <td>No</td>\n",
              "      <td>Yes</td>\n",
              "      <td>Yes</td>\n",
              "      <td>No</td>\n",
              "      <td>No</td>\n",
              "    </tr>\n",
              "    <tr>\n",
              "      <th>4</th>\n",
              "      <td>9237-HQITU</td>\n",
              "      <td>Fiber optic</td>\n",
              "      <td>No</td>\n",
              "      <td>No</td>\n",
              "      <td>No</td>\n",
              "      <td>No</td>\n",
              "      <td>No</td>\n",
              "      <td>No</td>\n",
              "    </tr>\n",
              "  </tbody>\n",
              "</table>\n",
              "</div>\n",
              "      <button class=\"colab-df-convert\" onclick=\"convertToInteractive('df-8ecbebdf-b84e-4e2b-98e3-e94afd7dc02d')\"\n",
              "              title=\"Convert this dataframe to an interactive table.\"\n",
              "              style=\"display:none;\">\n",
              "        \n",
              "  <svg xmlns=\"http://www.w3.org/2000/svg\" height=\"24px\"viewBox=\"0 0 24 24\"\n",
              "       width=\"24px\">\n",
              "    <path d=\"M0 0h24v24H0V0z\" fill=\"none\"/>\n",
              "    <path d=\"M18.56 5.44l.94 2.06.94-2.06 2.06-.94-2.06-.94-.94-2.06-.94 2.06-2.06.94zm-11 1L8.5 8.5l.94-2.06 2.06-.94-2.06-.94L8.5 2.5l-.94 2.06-2.06.94zm10 10l.94 2.06.94-2.06 2.06-.94-2.06-.94-.94-2.06-.94 2.06-2.06.94z\"/><path d=\"M17.41 7.96l-1.37-1.37c-.4-.4-.92-.59-1.43-.59-.52 0-1.04.2-1.43.59L10.3 9.45l-7.72 7.72c-.78.78-.78 2.05 0 2.83L4 21.41c.39.39.9.59 1.41.59.51 0 1.02-.2 1.41-.59l7.78-7.78 2.81-2.81c.8-.78.8-2.07 0-2.86zM5.41 20L4 18.59l7.72-7.72 1.47 1.35L5.41 20z\"/>\n",
              "  </svg>\n",
              "      </button>\n",
              "      \n",
              "  <style>\n",
              "    .colab-df-container {\n",
              "      display:flex;\n",
              "      flex-wrap:wrap;\n",
              "      gap: 12px;\n",
              "    }\n",
              "\n",
              "    .colab-df-convert {\n",
              "      background-color: #E8F0FE;\n",
              "      border: none;\n",
              "      border-radius: 50%;\n",
              "      cursor: pointer;\n",
              "      display: none;\n",
              "      fill: #1967D2;\n",
              "      height: 32px;\n",
              "      padding: 0 0 0 0;\n",
              "      width: 32px;\n",
              "    }\n",
              "\n",
              "    .colab-df-convert:hover {\n",
              "      background-color: #E2EBFA;\n",
              "      box-shadow: 0px 1px 2px rgba(60, 64, 67, 0.3), 0px 1px 3px 1px rgba(60, 64, 67, 0.15);\n",
              "      fill: #174EA6;\n",
              "    }\n",
              "\n",
              "    [theme=dark] .colab-df-convert {\n",
              "      background-color: #3B4455;\n",
              "      fill: #D2E3FC;\n",
              "    }\n",
              "\n",
              "    [theme=dark] .colab-df-convert:hover {\n",
              "      background-color: #434B5C;\n",
              "      box-shadow: 0px 1px 3px 1px rgba(0, 0, 0, 0.15);\n",
              "      filter: drop-shadow(0px 1px 2px rgba(0, 0, 0, 0.3));\n",
              "      fill: #FFFFFF;\n",
              "    }\n",
              "  </style>\n",
              "\n",
              "      <script>\n",
              "        const buttonEl =\n",
              "          document.querySelector('#df-8ecbebdf-b84e-4e2b-98e3-e94afd7dc02d button.colab-df-convert');\n",
              "        buttonEl.style.display =\n",
              "          google.colab.kernel.accessAllowed ? 'block' : 'none';\n",
              "\n",
              "        async function convertToInteractive(key) {\n",
              "          const element = document.querySelector('#df-8ecbebdf-b84e-4e2b-98e3-e94afd7dc02d');\n",
              "          const dataTable =\n",
              "            await google.colab.kernel.invokeFunction('convertToInteractive',\n",
              "                                                     [key], {});\n",
              "          if (!dataTable) return;\n",
              "\n",
              "          const docLinkHtml = 'Like what you see? Visit the ' +\n",
              "            '<a target=\"_blank\" href=https://colab.research.google.com/notebooks/data_table.ipynb>data table notebook</a>'\n",
              "            + ' to learn more about interactive tables.';\n",
              "          element.innerHTML = '';\n",
              "          dataTable['output_type'] = 'display_data';\n",
              "          await google.colab.output.renderOutput(dataTable, element);\n",
              "          const docLink = document.createElement('div');\n",
              "          docLink.innerHTML = docLinkHtml;\n",
              "          element.appendChild(docLink);\n",
              "        }\n",
              "      </script>\n",
              "    </div>\n",
              "  </div>\n",
              "  "
            ]
          },
          "metadata": {}
        },
        {
          "output_type": "display_data",
          "data": {
            "text/plain": [
              "        customerID InternetService OnlineSecurity OnlineBackup  \\\n",
              "count         5517            5517           5517         5517   \n",
              "unique        5517               2              2            2   \n",
              "top     7590-VHVEG     Fiber optic             No           No   \n",
              "freq             1            3096           3498         3088   \n",
              "\n",
              "       DeviceProtection TechSupport StreamingTV StreamingMovies  \n",
              "count              5517        5517        5517            5517  \n",
              "unique                2           2           2               2  \n",
              "top                  No          No          No              No  \n",
              "freq               3095        3473        2810            2785  "
            ],
            "text/html": [
              "\n",
              "  <div id=\"df-71536192-e07d-4c7f-bab0-9f632a8026e8\">\n",
              "    <div class=\"colab-df-container\">\n",
              "      <div>\n",
              "<style scoped>\n",
              "    .dataframe tbody tr th:only-of-type {\n",
              "        vertical-align: middle;\n",
              "    }\n",
              "\n",
              "    .dataframe tbody tr th {\n",
              "        vertical-align: top;\n",
              "    }\n",
              "\n",
              "    .dataframe thead th {\n",
              "        text-align: right;\n",
              "    }\n",
              "</style>\n",
              "<table border=\"1\" class=\"dataframe\">\n",
              "  <thead>\n",
              "    <tr style=\"text-align: right;\">\n",
              "      <th></th>\n",
              "      <th>customerID</th>\n",
              "      <th>InternetService</th>\n",
              "      <th>OnlineSecurity</th>\n",
              "      <th>OnlineBackup</th>\n",
              "      <th>DeviceProtection</th>\n",
              "      <th>TechSupport</th>\n",
              "      <th>StreamingTV</th>\n",
              "      <th>StreamingMovies</th>\n",
              "    </tr>\n",
              "  </thead>\n",
              "  <tbody>\n",
              "    <tr>\n",
              "      <th>count</th>\n",
              "      <td>5517</td>\n",
              "      <td>5517</td>\n",
              "      <td>5517</td>\n",
              "      <td>5517</td>\n",
              "      <td>5517</td>\n",
              "      <td>5517</td>\n",
              "      <td>5517</td>\n",
              "      <td>5517</td>\n",
              "    </tr>\n",
              "    <tr>\n",
              "      <th>unique</th>\n",
              "      <td>5517</td>\n",
              "      <td>2</td>\n",
              "      <td>2</td>\n",
              "      <td>2</td>\n",
              "      <td>2</td>\n",
              "      <td>2</td>\n",
              "      <td>2</td>\n",
              "      <td>2</td>\n",
              "    </tr>\n",
              "    <tr>\n",
              "      <th>top</th>\n",
              "      <td>7590-VHVEG</td>\n",
              "      <td>Fiber optic</td>\n",
              "      <td>No</td>\n",
              "      <td>No</td>\n",
              "      <td>No</td>\n",
              "      <td>No</td>\n",
              "      <td>No</td>\n",
              "      <td>No</td>\n",
              "    </tr>\n",
              "    <tr>\n",
              "      <th>freq</th>\n",
              "      <td>1</td>\n",
              "      <td>3096</td>\n",
              "      <td>3498</td>\n",
              "      <td>3088</td>\n",
              "      <td>3095</td>\n",
              "      <td>3473</td>\n",
              "      <td>2810</td>\n",
              "      <td>2785</td>\n",
              "    </tr>\n",
              "  </tbody>\n",
              "</table>\n",
              "</div>\n",
              "      <button class=\"colab-df-convert\" onclick=\"convertToInteractive('df-71536192-e07d-4c7f-bab0-9f632a8026e8')\"\n",
              "              title=\"Convert this dataframe to an interactive table.\"\n",
              "              style=\"display:none;\">\n",
              "        \n",
              "  <svg xmlns=\"http://www.w3.org/2000/svg\" height=\"24px\"viewBox=\"0 0 24 24\"\n",
              "       width=\"24px\">\n",
              "    <path d=\"M0 0h24v24H0V0z\" fill=\"none\"/>\n",
              "    <path d=\"M18.56 5.44l.94 2.06.94-2.06 2.06-.94-2.06-.94-.94-2.06-.94 2.06-2.06.94zm-11 1L8.5 8.5l.94-2.06 2.06-.94-2.06-.94L8.5 2.5l-.94 2.06-2.06.94zm10 10l.94 2.06.94-2.06 2.06-.94-2.06-.94-.94-2.06-.94 2.06-2.06.94z\"/><path d=\"M17.41 7.96l-1.37-1.37c-.4-.4-.92-.59-1.43-.59-.52 0-1.04.2-1.43.59L10.3 9.45l-7.72 7.72c-.78.78-.78 2.05 0 2.83L4 21.41c.39.39.9.59 1.41.59.51 0 1.02-.2 1.41-.59l7.78-7.78 2.81-2.81c.8-.78.8-2.07 0-2.86zM5.41 20L4 18.59l7.72-7.72 1.47 1.35L5.41 20z\"/>\n",
              "  </svg>\n",
              "      </button>\n",
              "      \n",
              "  <style>\n",
              "    .colab-df-container {\n",
              "      display:flex;\n",
              "      flex-wrap:wrap;\n",
              "      gap: 12px;\n",
              "    }\n",
              "\n",
              "    .colab-df-convert {\n",
              "      background-color: #E8F0FE;\n",
              "      border: none;\n",
              "      border-radius: 50%;\n",
              "      cursor: pointer;\n",
              "      display: none;\n",
              "      fill: #1967D2;\n",
              "      height: 32px;\n",
              "      padding: 0 0 0 0;\n",
              "      width: 32px;\n",
              "    }\n",
              "\n",
              "    .colab-df-convert:hover {\n",
              "      background-color: #E2EBFA;\n",
              "      box-shadow: 0px 1px 2px rgba(60, 64, 67, 0.3), 0px 1px 3px 1px rgba(60, 64, 67, 0.15);\n",
              "      fill: #174EA6;\n",
              "    }\n",
              "\n",
              "    [theme=dark] .colab-df-convert {\n",
              "      background-color: #3B4455;\n",
              "      fill: #D2E3FC;\n",
              "    }\n",
              "\n",
              "    [theme=dark] .colab-df-convert:hover {\n",
              "      background-color: #434B5C;\n",
              "      box-shadow: 0px 1px 3px 1px rgba(0, 0, 0, 0.15);\n",
              "      filter: drop-shadow(0px 1px 2px rgba(0, 0, 0, 0.3));\n",
              "      fill: #FFFFFF;\n",
              "    }\n",
              "  </style>\n",
              "\n",
              "      <script>\n",
              "        const buttonEl =\n",
              "          document.querySelector('#df-71536192-e07d-4c7f-bab0-9f632a8026e8 button.colab-df-convert');\n",
              "        buttonEl.style.display =\n",
              "          google.colab.kernel.accessAllowed ? 'block' : 'none';\n",
              "\n",
              "        async function convertToInteractive(key) {\n",
              "          const element = document.querySelector('#df-71536192-e07d-4c7f-bab0-9f632a8026e8');\n",
              "          const dataTable =\n",
              "            await google.colab.kernel.invokeFunction('convertToInteractive',\n",
              "                                                     [key], {});\n",
              "          if (!dataTable) return;\n",
              "\n",
              "          const docLinkHtml = 'Like what you see? Visit the ' +\n",
              "            '<a target=\"_blank\" href=https://colab.research.google.com/notebooks/data_table.ipynb>data table notebook</a>'\n",
              "            + ' to learn more about interactive tables.';\n",
              "          element.innerHTML = '';\n",
              "          dataTable['output_type'] = 'display_data';\n",
              "          await google.colab.output.renderOutput(dataTable, element);\n",
              "          const docLink = document.createElement('div');\n",
              "          docLink.innerHTML = docLinkHtml;\n",
              "          element.appendChild(docLink);\n",
              "        }\n",
              "      </script>\n",
              "    </div>\n",
              "  </div>\n",
              "  "
            ]
          },
          "metadata": {}
        },
        {
          "output_type": "stream",
          "name": "stdout",
          "text": [
            "<class 'pandas.core.frame.DataFrame'>\n",
            "RangeIndex: 5517 entries, 0 to 5516\n",
            "Data columns (total 8 columns):\n",
            " #   Column            Non-Null Count  Dtype \n",
            "---  ------            --------------  ----- \n",
            " 0   customerID        5517 non-null   object\n",
            " 1   InternetService   5517 non-null   object\n",
            " 2   OnlineSecurity    5517 non-null   object\n",
            " 3   OnlineBackup      5517 non-null   object\n",
            " 4   DeviceProtection  5517 non-null   object\n",
            " 5   TechSupport       5517 non-null   object\n",
            " 6   StreamingTV       5517 non-null   object\n",
            " 7   StreamingMovies   5517 non-null   object\n",
            "dtypes: object(8)\n",
            "memory usage: 344.9+ KB\n"
          ]
        },
        {
          "output_type": "display_data",
          "data": {
            "text/plain": [
              "None"
            ]
          },
          "metadata": {}
        }
      ],
      "source": [
        "inter\n",
        "display(inter.head(5))\n",
        "display(inter.describe())\n",
        "display(inter.info())"
      ]
    },
    {
      "cell_type": "code",
      "execution_count": null,
      "metadata": {
        "colab": {
          "base_uri": "https://localhost:8080/"
        },
        "id": "HS7R-WIdB57_",
        "outputId": "909e1656-24bd-424e-9416-7696d383771f"
      },
      "outputs": [
        {
          "output_type": "stream",
          "name": "stdout",
          "text": [
            "['No' 'Yes']\n"
          ]
        }
      ],
      "source": [
        "print(inter.OnlineSecurity.unique())"
      ]
    },
    {
      "cell_type": "code",
      "execution_count": null,
      "metadata": {
        "id": "Uvmd4cdZxyFW"
      },
      "outputs": [],
      "source": [
        "inter['OnlineSecurity'].replace(['No','Yes'],[0,1],inplace=True)\n",
        "inter['OnlineBackup'].replace(['No','Yes'],[0,1],inplace=True)\n",
        "inter['DeviceProtection'].replace(['No','Yes'],[0,1],inplace=True)\n",
        "inter['TechSupport'].replace(['No','Yes'],[0,1],inplace=True)\n",
        "inter['StreamingTV'].replace(['No','Yes'],[0,1],inplace=True)\n",
        "inter['StreamingMovies'].replace(['No','Yes'],[0,1],inplace=True)\n",
        "inter['InternetService'].replace(['DSL','Fiber optic'],[0,1],inplace=True)"
      ]
    },
    {
      "cell_type": "code",
      "execution_count": null,
      "metadata": {
        "colab": {
          "base_uri": "https://localhost:8080/"
        },
        "id": "-2N86TJlxyDM",
        "outputId": "3bf38b90-f602-4c59-8fd0-671459317b68"
      },
      "outputs": [
        {
          "output_type": "execute_result",
          "data": {
            "text/plain": [
              "0       0\n",
              "1       0\n",
              "2       0\n",
              "3       0\n",
              "4       1\n",
              "       ..\n",
              "5512    0\n",
              "5513    1\n",
              "5514    0\n",
              "5515    1\n",
              "5516    1\n",
              "Name: InternetService, Length: 5517, dtype: int64"
            ]
          },
          "metadata": {},
          "execution_count": 518
        }
      ],
      "source": [
        "inter['OnlineSecurity'].astype(object).astype(int)\n",
        "inter['OnlineBackup'].astype(object).astype(bool)\n",
        "inter['DeviceProtection'].astype(object).astype(int)\n",
        "inter['TechSupport'].astype(object).astype(int)\n",
        "inter['StreamingTV'].astype(object).astype(bool)\n",
        "inter['StreamingMovies'].astype(object).astype(int)\n",
        "inter['InternetService'].astype(object).astype(int)"
      ]
    },
    {
      "cell_type": "code",
      "execution_count": null,
      "metadata": {
        "colab": {
          "base_uri": "https://localhost:8080/"
        },
        "id": "3LgDv_oixyA4",
        "outputId": "e2a7448e-65c9-42fd-9a49-c9af9b625f66"
      },
      "outputs": [
        {
          "output_type": "stream",
          "name": "stdout",
          "text": [
            "[0 1]\n"
          ]
        }
      ],
      "source": [
        "print(inter.InternetService.unique())"
      ]
    },
    {
      "cell_type": "code",
      "execution_count": null,
      "metadata": {
        "id": "6ECp9GBSxx7e"
      },
      "outputs": [],
      "source": [
        "pers=pd.read_csv('/content/drive/MyDrive/final_provider/personal.csv', delimiter=',')"
      ]
    },
    {
      "cell_type": "code",
      "execution_count": null,
      "metadata": {
        "id": "9o6Bn_kcxx5e"
      },
      "outputs": [],
      "source": [
        "#pers =pd.read_csv('personal.csv', delimiter=',')"
      ]
    },
    {
      "cell_type": "code",
      "execution_count": null,
      "metadata": {
        "colab": {
          "base_uri": "https://localhost:8080/",
          "height": 729
        },
        "id": "8JTtwXgZ0cZn",
        "outputId": "4755bcbc-61b9-44d0-8a67-4fe69330e64a"
      },
      "outputs": [
        {
          "output_type": "display_data",
          "data": {
            "text/plain": [
              "   customerID  gender  SeniorCitizen Partner Dependents\n",
              "0  7590-VHVEG  Female              0     Yes         No\n",
              "1  5575-GNVDE    Male              0      No         No\n",
              "2  3668-QPYBK    Male              0      No         No\n",
              "3  7795-CFOCW    Male              0      No         No\n",
              "4  9237-HQITU  Female              0      No         No"
            ],
            "text/html": [
              "\n",
              "  <div id=\"df-0300a743-4031-41c5-8b04-c285196288b7\">\n",
              "    <div class=\"colab-df-container\">\n",
              "      <div>\n",
              "<style scoped>\n",
              "    .dataframe tbody tr th:only-of-type {\n",
              "        vertical-align: middle;\n",
              "    }\n",
              "\n",
              "    .dataframe tbody tr th {\n",
              "        vertical-align: top;\n",
              "    }\n",
              "\n",
              "    .dataframe thead th {\n",
              "        text-align: right;\n",
              "    }\n",
              "</style>\n",
              "<table border=\"1\" class=\"dataframe\">\n",
              "  <thead>\n",
              "    <tr style=\"text-align: right;\">\n",
              "      <th></th>\n",
              "      <th>customerID</th>\n",
              "      <th>gender</th>\n",
              "      <th>SeniorCitizen</th>\n",
              "      <th>Partner</th>\n",
              "      <th>Dependents</th>\n",
              "    </tr>\n",
              "  </thead>\n",
              "  <tbody>\n",
              "    <tr>\n",
              "      <th>0</th>\n",
              "      <td>7590-VHVEG</td>\n",
              "      <td>Female</td>\n",
              "      <td>0</td>\n",
              "      <td>Yes</td>\n",
              "      <td>No</td>\n",
              "    </tr>\n",
              "    <tr>\n",
              "      <th>1</th>\n",
              "      <td>5575-GNVDE</td>\n",
              "      <td>Male</td>\n",
              "      <td>0</td>\n",
              "      <td>No</td>\n",
              "      <td>No</td>\n",
              "    </tr>\n",
              "    <tr>\n",
              "      <th>2</th>\n",
              "      <td>3668-QPYBK</td>\n",
              "      <td>Male</td>\n",
              "      <td>0</td>\n",
              "      <td>No</td>\n",
              "      <td>No</td>\n",
              "    </tr>\n",
              "    <tr>\n",
              "      <th>3</th>\n",
              "      <td>7795-CFOCW</td>\n",
              "      <td>Male</td>\n",
              "      <td>0</td>\n",
              "      <td>No</td>\n",
              "      <td>No</td>\n",
              "    </tr>\n",
              "    <tr>\n",
              "      <th>4</th>\n",
              "      <td>9237-HQITU</td>\n",
              "      <td>Female</td>\n",
              "      <td>0</td>\n",
              "      <td>No</td>\n",
              "      <td>No</td>\n",
              "    </tr>\n",
              "  </tbody>\n",
              "</table>\n",
              "</div>\n",
              "      <button class=\"colab-df-convert\" onclick=\"convertToInteractive('df-0300a743-4031-41c5-8b04-c285196288b7')\"\n",
              "              title=\"Convert this dataframe to an interactive table.\"\n",
              "              style=\"display:none;\">\n",
              "        \n",
              "  <svg xmlns=\"http://www.w3.org/2000/svg\" height=\"24px\"viewBox=\"0 0 24 24\"\n",
              "       width=\"24px\">\n",
              "    <path d=\"M0 0h24v24H0V0z\" fill=\"none\"/>\n",
              "    <path d=\"M18.56 5.44l.94 2.06.94-2.06 2.06-.94-2.06-.94-.94-2.06-.94 2.06-2.06.94zm-11 1L8.5 8.5l.94-2.06 2.06-.94-2.06-.94L8.5 2.5l-.94 2.06-2.06.94zm10 10l.94 2.06.94-2.06 2.06-.94-2.06-.94-.94-2.06-.94 2.06-2.06.94z\"/><path d=\"M17.41 7.96l-1.37-1.37c-.4-.4-.92-.59-1.43-.59-.52 0-1.04.2-1.43.59L10.3 9.45l-7.72 7.72c-.78.78-.78 2.05 0 2.83L4 21.41c.39.39.9.59 1.41.59.51 0 1.02-.2 1.41-.59l7.78-7.78 2.81-2.81c.8-.78.8-2.07 0-2.86zM5.41 20L4 18.59l7.72-7.72 1.47 1.35L5.41 20z\"/>\n",
              "  </svg>\n",
              "      </button>\n",
              "      \n",
              "  <style>\n",
              "    .colab-df-container {\n",
              "      display:flex;\n",
              "      flex-wrap:wrap;\n",
              "      gap: 12px;\n",
              "    }\n",
              "\n",
              "    .colab-df-convert {\n",
              "      background-color: #E8F0FE;\n",
              "      border: none;\n",
              "      border-radius: 50%;\n",
              "      cursor: pointer;\n",
              "      display: none;\n",
              "      fill: #1967D2;\n",
              "      height: 32px;\n",
              "      padding: 0 0 0 0;\n",
              "      width: 32px;\n",
              "    }\n",
              "\n",
              "    .colab-df-convert:hover {\n",
              "      background-color: #E2EBFA;\n",
              "      box-shadow: 0px 1px 2px rgba(60, 64, 67, 0.3), 0px 1px 3px 1px rgba(60, 64, 67, 0.15);\n",
              "      fill: #174EA6;\n",
              "    }\n",
              "\n",
              "    [theme=dark] .colab-df-convert {\n",
              "      background-color: #3B4455;\n",
              "      fill: #D2E3FC;\n",
              "    }\n",
              "\n",
              "    [theme=dark] .colab-df-convert:hover {\n",
              "      background-color: #434B5C;\n",
              "      box-shadow: 0px 1px 3px 1px rgba(0, 0, 0, 0.15);\n",
              "      filter: drop-shadow(0px 1px 2px rgba(0, 0, 0, 0.3));\n",
              "      fill: #FFFFFF;\n",
              "    }\n",
              "  </style>\n",
              "\n",
              "      <script>\n",
              "        const buttonEl =\n",
              "          document.querySelector('#df-0300a743-4031-41c5-8b04-c285196288b7 button.colab-df-convert');\n",
              "        buttonEl.style.display =\n",
              "          google.colab.kernel.accessAllowed ? 'block' : 'none';\n",
              "\n",
              "        async function convertToInteractive(key) {\n",
              "          const element = document.querySelector('#df-0300a743-4031-41c5-8b04-c285196288b7');\n",
              "          const dataTable =\n",
              "            await google.colab.kernel.invokeFunction('convertToInteractive',\n",
              "                                                     [key], {});\n",
              "          if (!dataTable) return;\n",
              "\n",
              "          const docLinkHtml = 'Like what you see? Visit the ' +\n",
              "            '<a target=\"_blank\" href=https://colab.research.google.com/notebooks/data_table.ipynb>data table notebook</a>'\n",
              "            + ' to learn more about interactive tables.';\n",
              "          element.innerHTML = '';\n",
              "          dataTable['output_type'] = 'display_data';\n",
              "          await google.colab.output.renderOutput(dataTable, element);\n",
              "          const docLink = document.createElement('div');\n",
              "          docLink.innerHTML = docLinkHtml;\n",
              "          element.appendChild(docLink);\n",
              "        }\n",
              "      </script>\n",
              "    </div>\n",
              "  </div>\n",
              "  "
            ]
          },
          "metadata": {}
        },
        {
          "output_type": "display_data",
          "data": {
            "text/plain": [
              "       SeniorCitizen\n",
              "count    7043.000000\n",
              "mean        0.162147\n",
              "std         0.368612\n",
              "min         0.000000\n",
              "25%         0.000000\n",
              "50%         0.000000\n",
              "75%         0.000000\n",
              "max         1.000000"
            ],
            "text/html": [
              "\n",
              "  <div id=\"df-83362f5d-25e6-48cb-a3ab-c61b0c831b92\">\n",
              "    <div class=\"colab-df-container\">\n",
              "      <div>\n",
              "<style scoped>\n",
              "    .dataframe tbody tr th:only-of-type {\n",
              "        vertical-align: middle;\n",
              "    }\n",
              "\n",
              "    .dataframe tbody tr th {\n",
              "        vertical-align: top;\n",
              "    }\n",
              "\n",
              "    .dataframe thead th {\n",
              "        text-align: right;\n",
              "    }\n",
              "</style>\n",
              "<table border=\"1\" class=\"dataframe\">\n",
              "  <thead>\n",
              "    <tr style=\"text-align: right;\">\n",
              "      <th></th>\n",
              "      <th>SeniorCitizen</th>\n",
              "    </tr>\n",
              "  </thead>\n",
              "  <tbody>\n",
              "    <tr>\n",
              "      <th>count</th>\n",
              "      <td>7043.000000</td>\n",
              "    </tr>\n",
              "    <tr>\n",
              "      <th>mean</th>\n",
              "      <td>0.162147</td>\n",
              "    </tr>\n",
              "    <tr>\n",
              "      <th>std</th>\n",
              "      <td>0.368612</td>\n",
              "    </tr>\n",
              "    <tr>\n",
              "      <th>min</th>\n",
              "      <td>0.000000</td>\n",
              "    </tr>\n",
              "    <tr>\n",
              "      <th>25%</th>\n",
              "      <td>0.000000</td>\n",
              "    </tr>\n",
              "    <tr>\n",
              "      <th>50%</th>\n",
              "      <td>0.000000</td>\n",
              "    </tr>\n",
              "    <tr>\n",
              "      <th>75%</th>\n",
              "      <td>0.000000</td>\n",
              "    </tr>\n",
              "    <tr>\n",
              "      <th>max</th>\n",
              "      <td>1.000000</td>\n",
              "    </tr>\n",
              "  </tbody>\n",
              "</table>\n",
              "</div>\n",
              "      <button class=\"colab-df-convert\" onclick=\"convertToInteractive('df-83362f5d-25e6-48cb-a3ab-c61b0c831b92')\"\n",
              "              title=\"Convert this dataframe to an interactive table.\"\n",
              "              style=\"display:none;\">\n",
              "        \n",
              "  <svg xmlns=\"http://www.w3.org/2000/svg\" height=\"24px\"viewBox=\"0 0 24 24\"\n",
              "       width=\"24px\">\n",
              "    <path d=\"M0 0h24v24H0V0z\" fill=\"none\"/>\n",
              "    <path d=\"M18.56 5.44l.94 2.06.94-2.06 2.06-.94-2.06-.94-.94-2.06-.94 2.06-2.06.94zm-11 1L8.5 8.5l.94-2.06 2.06-.94-2.06-.94L8.5 2.5l-.94 2.06-2.06.94zm10 10l.94 2.06.94-2.06 2.06-.94-2.06-.94-.94-2.06-.94 2.06-2.06.94z\"/><path d=\"M17.41 7.96l-1.37-1.37c-.4-.4-.92-.59-1.43-.59-.52 0-1.04.2-1.43.59L10.3 9.45l-7.72 7.72c-.78.78-.78 2.05 0 2.83L4 21.41c.39.39.9.59 1.41.59.51 0 1.02-.2 1.41-.59l7.78-7.78 2.81-2.81c.8-.78.8-2.07 0-2.86zM5.41 20L4 18.59l7.72-7.72 1.47 1.35L5.41 20z\"/>\n",
              "  </svg>\n",
              "      </button>\n",
              "      \n",
              "  <style>\n",
              "    .colab-df-container {\n",
              "      display:flex;\n",
              "      flex-wrap:wrap;\n",
              "      gap: 12px;\n",
              "    }\n",
              "\n",
              "    .colab-df-convert {\n",
              "      background-color: #E8F0FE;\n",
              "      border: none;\n",
              "      border-radius: 50%;\n",
              "      cursor: pointer;\n",
              "      display: none;\n",
              "      fill: #1967D2;\n",
              "      height: 32px;\n",
              "      padding: 0 0 0 0;\n",
              "      width: 32px;\n",
              "    }\n",
              "\n",
              "    .colab-df-convert:hover {\n",
              "      background-color: #E2EBFA;\n",
              "      box-shadow: 0px 1px 2px rgba(60, 64, 67, 0.3), 0px 1px 3px 1px rgba(60, 64, 67, 0.15);\n",
              "      fill: #174EA6;\n",
              "    }\n",
              "\n",
              "    [theme=dark] .colab-df-convert {\n",
              "      background-color: #3B4455;\n",
              "      fill: #D2E3FC;\n",
              "    }\n",
              "\n",
              "    [theme=dark] .colab-df-convert:hover {\n",
              "      background-color: #434B5C;\n",
              "      box-shadow: 0px 1px 3px 1px rgba(0, 0, 0, 0.15);\n",
              "      filter: drop-shadow(0px 1px 2px rgba(0, 0, 0, 0.3));\n",
              "      fill: #FFFFFF;\n",
              "    }\n",
              "  </style>\n",
              "\n",
              "      <script>\n",
              "        const buttonEl =\n",
              "          document.querySelector('#df-83362f5d-25e6-48cb-a3ab-c61b0c831b92 button.colab-df-convert');\n",
              "        buttonEl.style.display =\n",
              "          google.colab.kernel.accessAllowed ? 'block' : 'none';\n",
              "\n",
              "        async function convertToInteractive(key) {\n",
              "          const element = document.querySelector('#df-83362f5d-25e6-48cb-a3ab-c61b0c831b92');\n",
              "          const dataTable =\n",
              "            await google.colab.kernel.invokeFunction('convertToInteractive',\n",
              "                                                     [key], {});\n",
              "          if (!dataTable) return;\n",
              "\n",
              "          const docLinkHtml = 'Like what you see? Visit the ' +\n",
              "            '<a target=\"_blank\" href=https://colab.research.google.com/notebooks/data_table.ipynb>data table notebook</a>'\n",
              "            + ' to learn more about interactive tables.';\n",
              "          element.innerHTML = '';\n",
              "          dataTable['output_type'] = 'display_data';\n",
              "          await google.colab.output.renderOutput(dataTable, element);\n",
              "          const docLink = document.createElement('div');\n",
              "          docLink.innerHTML = docLinkHtml;\n",
              "          element.appendChild(docLink);\n",
              "        }\n",
              "      </script>\n",
              "    </div>\n",
              "  </div>\n",
              "  "
            ]
          },
          "metadata": {}
        },
        {
          "output_type": "stream",
          "name": "stdout",
          "text": [
            "<class 'pandas.core.frame.DataFrame'>\n",
            "RangeIndex: 7043 entries, 0 to 7042\n",
            "Data columns (total 5 columns):\n",
            " #   Column         Non-Null Count  Dtype \n",
            "---  ------         --------------  ----- \n",
            " 0   customerID     7043 non-null   object\n",
            " 1   gender         7043 non-null   object\n",
            " 2   SeniorCitizen  7043 non-null   int64 \n",
            " 3   Partner        7043 non-null   object\n",
            " 4   Dependents     7043 non-null   object\n",
            "dtypes: int64(1), object(4)\n",
            "memory usage: 275.2+ KB\n"
          ]
        },
        {
          "output_type": "display_data",
          "data": {
            "text/plain": [
              "None"
            ]
          },
          "metadata": {}
        }
      ],
      "source": [
        "display(pers.head(5))\n",
        "display(pers.describe())\n",
        "display(pers.info())"
      ]
    },
    {
      "cell_type": "code",
      "execution_count": null,
      "metadata": {
        "colab": {
          "base_uri": "https://localhost:8080/"
        },
        "id": "HGoP4izOyIUs",
        "outputId": "4ff7a9a3-6568-4412-ae3d-514b6d70b8f1"
      },
      "outputs": [
        {
          "output_type": "stream",
          "name": "stdout",
          "text": [
            "[0 1]\n",
            "['Female' 'Male']\n"
          ]
        }
      ],
      "source": [
        "print(pers.SeniorCitizen.unique())\n",
        "print(pers.gender.unique())"
      ]
    },
    {
      "cell_type": "code",
      "execution_count": null,
      "metadata": {
        "id": "OrszUa9sDLek"
      },
      "outputs": [],
      "source": [
        "pers['gender'].replace(['Male','Female'],[0,1],inplace=True)\n",
        "pers['Partner'].replace(['No','Yes'],[0,1],inplace=True)\n",
        "pers['Dependents'].replace(['No','Yes'],[0,1],inplace=True)\n",
        "\n"
      ]
    },
    {
      "cell_type": "code",
      "execution_count": null,
      "metadata": {
        "colab": {
          "base_uri": "https://localhost:8080/"
        },
        "id": "I2bnltBlDLbm",
        "outputId": "d10c0a97-5ba8-4dad-d232-f6aec8827d9d"
      },
      "outputs": [
        {
          "output_type": "execute_result",
          "data": {
            "text/plain": [
              "0       0\n",
              "1       0\n",
              "2       0\n",
              "3       0\n",
              "4       0\n",
              "       ..\n",
              "7038    1\n",
              "7039    1\n",
              "7040    1\n",
              "7041    0\n",
              "7042    0\n",
              "Name: Dependents, Length: 7043, dtype: int64"
            ]
          },
          "metadata": {},
          "execution_count": 525
        }
      ],
      "source": [
        "pers['gender'].astype(object).astype(int)\n",
        "pers['Partner'].astype(object).astype(bool)\n",
        "pers['Dependents'].astype(object).astype(int)"
      ]
    },
    {
      "cell_type": "code",
      "execution_count": null,
      "metadata": {
        "id": "0msirjarV7jl"
      },
      "outputs": [],
      "source": [
        "phone=pd.read_csv('/content/drive/MyDrive/final_provider/phone.csv', delimiter=',')"
      ]
    },
    {
      "cell_type": "code",
      "execution_count": null,
      "metadata": {
        "id": "-ToPbsRNyIR0"
      },
      "outputs": [],
      "source": [
        "#phone =pd.read_csv('phone.csv', delimiter=',')"
      ]
    },
    {
      "cell_type": "code",
      "execution_count": null,
      "metadata": {
        "colab": {
          "base_uri": "https://localhost:8080/",
          "height": 548
        },
        "id": "dGuJpJEO0wLT",
        "outputId": "3edf3482-5838-4e13-bfe1-a96c71f40c71"
      },
      "outputs": [
        {
          "output_type": "display_data",
          "data": {
            "text/plain": [
              "   customerID MultipleLines\n",
              "0  5575-GNVDE            No\n",
              "1  3668-QPYBK            No\n",
              "2  9237-HQITU            No\n",
              "3  9305-CDSKC           Yes\n",
              "4  1452-KIOVK           Yes"
            ],
            "text/html": [
              "\n",
              "  <div id=\"df-90cdde48-bf4a-4359-905d-437f22b019db\">\n",
              "    <div class=\"colab-df-container\">\n",
              "      <div>\n",
              "<style scoped>\n",
              "    .dataframe tbody tr th:only-of-type {\n",
              "        vertical-align: middle;\n",
              "    }\n",
              "\n",
              "    .dataframe tbody tr th {\n",
              "        vertical-align: top;\n",
              "    }\n",
              "\n",
              "    .dataframe thead th {\n",
              "        text-align: right;\n",
              "    }\n",
              "</style>\n",
              "<table border=\"1\" class=\"dataframe\">\n",
              "  <thead>\n",
              "    <tr style=\"text-align: right;\">\n",
              "      <th></th>\n",
              "      <th>customerID</th>\n",
              "      <th>MultipleLines</th>\n",
              "    </tr>\n",
              "  </thead>\n",
              "  <tbody>\n",
              "    <tr>\n",
              "      <th>0</th>\n",
              "      <td>5575-GNVDE</td>\n",
              "      <td>No</td>\n",
              "    </tr>\n",
              "    <tr>\n",
              "      <th>1</th>\n",
              "      <td>3668-QPYBK</td>\n",
              "      <td>No</td>\n",
              "    </tr>\n",
              "    <tr>\n",
              "      <th>2</th>\n",
              "      <td>9237-HQITU</td>\n",
              "      <td>No</td>\n",
              "    </tr>\n",
              "    <tr>\n",
              "      <th>3</th>\n",
              "      <td>9305-CDSKC</td>\n",
              "      <td>Yes</td>\n",
              "    </tr>\n",
              "    <tr>\n",
              "      <th>4</th>\n",
              "      <td>1452-KIOVK</td>\n",
              "      <td>Yes</td>\n",
              "    </tr>\n",
              "  </tbody>\n",
              "</table>\n",
              "</div>\n",
              "      <button class=\"colab-df-convert\" onclick=\"convertToInteractive('df-90cdde48-bf4a-4359-905d-437f22b019db')\"\n",
              "              title=\"Convert this dataframe to an interactive table.\"\n",
              "              style=\"display:none;\">\n",
              "        \n",
              "  <svg xmlns=\"http://www.w3.org/2000/svg\" height=\"24px\"viewBox=\"0 0 24 24\"\n",
              "       width=\"24px\">\n",
              "    <path d=\"M0 0h24v24H0V0z\" fill=\"none\"/>\n",
              "    <path d=\"M18.56 5.44l.94 2.06.94-2.06 2.06-.94-2.06-.94-.94-2.06-.94 2.06-2.06.94zm-11 1L8.5 8.5l.94-2.06 2.06-.94-2.06-.94L8.5 2.5l-.94 2.06-2.06.94zm10 10l.94 2.06.94-2.06 2.06-.94-2.06-.94-.94-2.06-.94 2.06-2.06.94z\"/><path d=\"M17.41 7.96l-1.37-1.37c-.4-.4-.92-.59-1.43-.59-.52 0-1.04.2-1.43.59L10.3 9.45l-7.72 7.72c-.78.78-.78 2.05 0 2.83L4 21.41c.39.39.9.59 1.41.59.51 0 1.02-.2 1.41-.59l7.78-7.78 2.81-2.81c.8-.78.8-2.07 0-2.86zM5.41 20L4 18.59l7.72-7.72 1.47 1.35L5.41 20z\"/>\n",
              "  </svg>\n",
              "      </button>\n",
              "      \n",
              "  <style>\n",
              "    .colab-df-container {\n",
              "      display:flex;\n",
              "      flex-wrap:wrap;\n",
              "      gap: 12px;\n",
              "    }\n",
              "\n",
              "    .colab-df-convert {\n",
              "      background-color: #E8F0FE;\n",
              "      border: none;\n",
              "      border-radius: 50%;\n",
              "      cursor: pointer;\n",
              "      display: none;\n",
              "      fill: #1967D2;\n",
              "      height: 32px;\n",
              "      padding: 0 0 0 0;\n",
              "      width: 32px;\n",
              "    }\n",
              "\n",
              "    .colab-df-convert:hover {\n",
              "      background-color: #E2EBFA;\n",
              "      box-shadow: 0px 1px 2px rgba(60, 64, 67, 0.3), 0px 1px 3px 1px rgba(60, 64, 67, 0.15);\n",
              "      fill: #174EA6;\n",
              "    }\n",
              "\n",
              "    [theme=dark] .colab-df-convert {\n",
              "      background-color: #3B4455;\n",
              "      fill: #D2E3FC;\n",
              "    }\n",
              "\n",
              "    [theme=dark] .colab-df-convert:hover {\n",
              "      background-color: #434B5C;\n",
              "      box-shadow: 0px 1px 3px 1px rgba(0, 0, 0, 0.15);\n",
              "      filter: drop-shadow(0px 1px 2px rgba(0, 0, 0, 0.3));\n",
              "      fill: #FFFFFF;\n",
              "    }\n",
              "  </style>\n",
              "\n",
              "      <script>\n",
              "        const buttonEl =\n",
              "          document.querySelector('#df-90cdde48-bf4a-4359-905d-437f22b019db button.colab-df-convert');\n",
              "        buttonEl.style.display =\n",
              "          google.colab.kernel.accessAllowed ? 'block' : 'none';\n",
              "\n",
              "        async function convertToInteractive(key) {\n",
              "          const element = document.querySelector('#df-90cdde48-bf4a-4359-905d-437f22b019db');\n",
              "          const dataTable =\n",
              "            await google.colab.kernel.invokeFunction('convertToInteractive',\n",
              "                                                     [key], {});\n",
              "          if (!dataTable) return;\n",
              "\n",
              "          const docLinkHtml = 'Like what you see? Visit the ' +\n",
              "            '<a target=\"_blank\" href=https://colab.research.google.com/notebooks/data_table.ipynb>data table notebook</a>'\n",
              "            + ' to learn more about interactive tables.';\n",
              "          element.innerHTML = '';\n",
              "          dataTable['output_type'] = 'display_data';\n",
              "          await google.colab.output.renderOutput(dataTable, element);\n",
              "          const docLink = document.createElement('div');\n",
              "          docLink.innerHTML = docLinkHtml;\n",
              "          element.appendChild(docLink);\n",
              "        }\n",
              "      </script>\n",
              "    </div>\n",
              "  </div>\n",
              "  "
            ]
          },
          "metadata": {}
        },
        {
          "output_type": "display_data",
          "data": {
            "text/plain": [
              "        customerID MultipleLines\n",
              "count         6361          6361\n",
              "unique        6361             2\n",
              "top     5575-GNVDE            No\n",
              "freq             1          3390"
            ],
            "text/html": [
              "\n",
              "  <div id=\"df-5b94cd5c-bfb3-450d-8988-712dc180bc39\">\n",
              "    <div class=\"colab-df-container\">\n",
              "      <div>\n",
              "<style scoped>\n",
              "    .dataframe tbody tr th:only-of-type {\n",
              "        vertical-align: middle;\n",
              "    }\n",
              "\n",
              "    .dataframe tbody tr th {\n",
              "        vertical-align: top;\n",
              "    }\n",
              "\n",
              "    .dataframe thead th {\n",
              "        text-align: right;\n",
              "    }\n",
              "</style>\n",
              "<table border=\"1\" class=\"dataframe\">\n",
              "  <thead>\n",
              "    <tr style=\"text-align: right;\">\n",
              "      <th></th>\n",
              "      <th>customerID</th>\n",
              "      <th>MultipleLines</th>\n",
              "    </tr>\n",
              "  </thead>\n",
              "  <tbody>\n",
              "    <tr>\n",
              "      <th>count</th>\n",
              "      <td>6361</td>\n",
              "      <td>6361</td>\n",
              "    </tr>\n",
              "    <tr>\n",
              "      <th>unique</th>\n",
              "      <td>6361</td>\n",
              "      <td>2</td>\n",
              "    </tr>\n",
              "    <tr>\n",
              "      <th>top</th>\n",
              "      <td>5575-GNVDE</td>\n",
              "      <td>No</td>\n",
              "    </tr>\n",
              "    <tr>\n",
              "      <th>freq</th>\n",
              "      <td>1</td>\n",
              "      <td>3390</td>\n",
              "    </tr>\n",
              "  </tbody>\n",
              "</table>\n",
              "</div>\n",
              "      <button class=\"colab-df-convert\" onclick=\"convertToInteractive('df-5b94cd5c-bfb3-450d-8988-712dc180bc39')\"\n",
              "              title=\"Convert this dataframe to an interactive table.\"\n",
              "              style=\"display:none;\">\n",
              "        \n",
              "  <svg xmlns=\"http://www.w3.org/2000/svg\" height=\"24px\"viewBox=\"0 0 24 24\"\n",
              "       width=\"24px\">\n",
              "    <path d=\"M0 0h24v24H0V0z\" fill=\"none\"/>\n",
              "    <path d=\"M18.56 5.44l.94 2.06.94-2.06 2.06-.94-2.06-.94-.94-2.06-.94 2.06-2.06.94zm-11 1L8.5 8.5l.94-2.06 2.06-.94-2.06-.94L8.5 2.5l-.94 2.06-2.06.94zm10 10l.94 2.06.94-2.06 2.06-.94-2.06-.94-.94-2.06-.94 2.06-2.06.94z\"/><path d=\"M17.41 7.96l-1.37-1.37c-.4-.4-.92-.59-1.43-.59-.52 0-1.04.2-1.43.59L10.3 9.45l-7.72 7.72c-.78.78-.78 2.05 0 2.83L4 21.41c.39.39.9.59 1.41.59.51 0 1.02-.2 1.41-.59l7.78-7.78 2.81-2.81c.8-.78.8-2.07 0-2.86zM5.41 20L4 18.59l7.72-7.72 1.47 1.35L5.41 20z\"/>\n",
              "  </svg>\n",
              "      </button>\n",
              "      \n",
              "  <style>\n",
              "    .colab-df-container {\n",
              "      display:flex;\n",
              "      flex-wrap:wrap;\n",
              "      gap: 12px;\n",
              "    }\n",
              "\n",
              "    .colab-df-convert {\n",
              "      background-color: #E8F0FE;\n",
              "      border: none;\n",
              "      border-radius: 50%;\n",
              "      cursor: pointer;\n",
              "      display: none;\n",
              "      fill: #1967D2;\n",
              "      height: 32px;\n",
              "      padding: 0 0 0 0;\n",
              "      width: 32px;\n",
              "    }\n",
              "\n",
              "    .colab-df-convert:hover {\n",
              "      background-color: #E2EBFA;\n",
              "      box-shadow: 0px 1px 2px rgba(60, 64, 67, 0.3), 0px 1px 3px 1px rgba(60, 64, 67, 0.15);\n",
              "      fill: #174EA6;\n",
              "    }\n",
              "\n",
              "    [theme=dark] .colab-df-convert {\n",
              "      background-color: #3B4455;\n",
              "      fill: #D2E3FC;\n",
              "    }\n",
              "\n",
              "    [theme=dark] .colab-df-convert:hover {\n",
              "      background-color: #434B5C;\n",
              "      box-shadow: 0px 1px 3px 1px rgba(0, 0, 0, 0.15);\n",
              "      filter: drop-shadow(0px 1px 2px rgba(0, 0, 0, 0.3));\n",
              "      fill: #FFFFFF;\n",
              "    }\n",
              "  </style>\n",
              "\n",
              "      <script>\n",
              "        const buttonEl =\n",
              "          document.querySelector('#df-5b94cd5c-bfb3-450d-8988-712dc180bc39 button.colab-df-convert');\n",
              "        buttonEl.style.display =\n",
              "          google.colab.kernel.accessAllowed ? 'block' : 'none';\n",
              "\n",
              "        async function convertToInteractive(key) {\n",
              "          const element = document.querySelector('#df-5b94cd5c-bfb3-450d-8988-712dc180bc39');\n",
              "          const dataTable =\n",
              "            await google.colab.kernel.invokeFunction('convertToInteractive',\n",
              "                                                     [key], {});\n",
              "          if (!dataTable) return;\n",
              "\n",
              "          const docLinkHtml = 'Like what you see? Visit the ' +\n",
              "            '<a target=\"_blank\" href=https://colab.research.google.com/notebooks/data_table.ipynb>data table notebook</a>'\n",
              "            + ' to learn more about interactive tables.';\n",
              "          element.innerHTML = '';\n",
              "          dataTable['output_type'] = 'display_data';\n",
              "          await google.colab.output.renderOutput(dataTable, element);\n",
              "          const docLink = document.createElement('div');\n",
              "          docLink.innerHTML = docLinkHtml;\n",
              "          element.appendChild(docLink);\n",
              "        }\n",
              "      </script>\n",
              "    </div>\n",
              "  </div>\n",
              "  "
            ]
          },
          "metadata": {}
        },
        {
          "output_type": "stream",
          "name": "stdout",
          "text": [
            "<class 'pandas.core.frame.DataFrame'>\n",
            "RangeIndex: 6361 entries, 0 to 6360\n",
            "Data columns (total 2 columns):\n",
            " #   Column         Non-Null Count  Dtype \n",
            "---  ------         --------------  ----- \n",
            " 0   customerID     6361 non-null   object\n",
            " 1   MultipleLines  6361 non-null   object\n",
            "dtypes: object(2)\n",
            "memory usage: 99.5+ KB\n"
          ]
        },
        {
          "output_type": "display_data",
          "data": {
            "text/plain": [
              "None"
            ]
          },
          "metadata": {}
        }
      ],
      "source": [
        "display(phone.head(5))\n",
        "display(phone.describe())\n",
        "display(phone.info())"
      ]
    },
    {
      "cell_type": "code",
      "execution_count": null,
      "metadata": {
        "colab": {
          "base_uri": "https://localhost:8080/"
        },
        "id": "J63wKMP3ybZU",
        "outputId": "36899327-38e5-4b1a-f5d5-4e016702055d"
      },
      "outputs": [
        {
          "output_type": "execute_result",
          "data": {
            "text/plain": [
              "0       0\n",
              "1       0\n",
              "2       0\n",
              "3       1\n",
              "4       1\n",
              "       ..\n",
              "6356    0\n",
              "6357    1\n",
              "6358    1\n",
              "6359    1\n",
              "6360    0\n",
              "Name: MultipleLines, Length: 6361, dtype: int64"
            ]
          },
          "metadata": {},
          "execution_count": 529
        }
      ],
      "source": [
        "phone['MultipleLines'].replace(['No','Yes'],[0,1],inplace=True)\n",
        "phone['MultipleLines'].astype(object).astype(int)"
      ]
    },
    {
      "cell_type": "markdown",
      "metadata": {
        "id": "KJO8FOZb1w-l"
      },
      "source": [
        "После завершения работы над предосмотром и просмотром наших БД и данных внутри, нам необходимо соеденить таблицы для дальнейшей работы с единой БД."
      ]
    },
    {
      "cell_type": "code",
      "execution_count": null,
      "metadata": {
        "id": "YgYNniA6BCpZ"
      },
      "outputs": [],
      "source": [
        "contra1 = contra\n",
        "inter1 = inter\n",
        "pers1 = pers\n",
        "phone1 = phone"
      ]
    },
    {
      "cell_type": "markdown",
      "source": [
        "Этот код выполняет объединение (join) четырех объектов DataFrame (contra1, inter1, pers1, phone1) по столбцу 'customerID' и сохраняет результат в новый объект DataFrame под названием \"firstp\"."
      ],
      "metadata": {
        "id": "y5qdi5Y-P7MV"
      }
    },
    {
      "cell_type": "code",
      "execution_count": null,
      "metadata": {
        "id": "xeiRAWmBDjvr"
      },
      "outputs": [],
      "source": [
        "firstp = contra1.merge(inter1, how='outer', on='customerID')\n",
        "firstp = firstp.merge(pers1, how='outer', on='customerID')\n",
        "firstp = firstp.merge(phone1, how='outer', on='customerID')\n"
      ]
    },
    {
      "cell_type": "markdown",
      "metadata": {
        "id": "dtlXySud2KOz"
      },
      "source": [
        "После того, как мы объединили все БД у нас возникла проблема нецелостности баз данных, то есть нехватки значений в некоторых строчках и столбцах. Это связано с тем, что все наши БД имеют разное кол-во строчек, в связи с этим мы имеем нехватку данных во многих строчках нашей новой БД.\n",
        "Чтобы решить эту проблему мы можем обойтись очень легким способом, воспользуемся ср.значением и поместим его в строки с пропусками. Но у нас возникает другая проблема, из-за которой у нас при анализе данных может возникнуть не точность, Так как кол-во пропусков у нас в некотрых столбцах равняется 21.67, В будующем это может критично повлиять на исход анализа данных и изменить результат даже в не лучшую сторону. Есть еще решение удалить все столбцы, в которых у нас есть нехватка данных, но нам запрещается удалять клиентов из всей нашей конечной БД, поэтому пока воспользуемся ср.значением, либо медианой."
      ]
    },
    {
      "cell_type": "code",
      "execution_count": null,
      "metadata": {
        "colab": {
          "base_uri": "https://localhost:8080/"
        },
        "id": "q76FGT11FIFk",
        "outputId": "1f500ea0-7734-4b42-eb94-5c617a351fbc"
      },
      "outputs": [
        {
          "output_type": "stream",
          "name": "stdout",
          "text": [
            "<class 'pandas.core.frame.DataFrame'>\n",
            "Int64Index: 7043 entries, 0 to 7042\n",
            "Data columns (total 21 columns):\n",
            " #   Column            Non-Null Count  Dtype         \n",
            "---  ------            --------------  -----         \n",
            " 0   customerID        7043 non-null   object        \n",
            " 1   BeginDate         7043 non-null   datetime64[ns]\n",
            " 2   EndDate           7043 non-null   datetime64[ns]\n",
            " 3   Target            7043 non-null   int64         \n",
            " 4   Type              7043 non-null   int64         \n",
            " 5   PaperlessBilling  7043 non-null   int64         \n",
            " 6   PaymentMethod     7043 non-null   int64         \n",
            " 7   MonthlyCharges    7043 non-null   float64       \n",
            " 8   TotalCharges      7043 non-null   float64       \n",
            " 9   InternetService   5517 non-null   float64       \n",
            " 10  OnlineSecurity    5517 non-null   float64       \n",
            " 11  OnlineBackup      5517 non-null   float64       \n",
            " 12  DeviceProtection  5517 non-null   float64       \n",
            " 13  TechSupport       5517 non-null   float64       \n",
            " 14  StreamingTV       5517 non-null   float64       \n",
            " 15  StreamingMovies   5517 non-null   float64       \n",
            " 16  gender            7043 non-null   int64         \n",
            " 17  SeniorCitizen     7043 non-null   int64         \n",
            " 18  Partner           7043 non-null   int64         \n",
            " 19  Dependents        7043 non-null   int64         \n",
            " 20  MultipleLines     6361 non-null   float64       \n",
            "dtypes: datetime64[ns](2), float64(10), int64(8), object(1)\n",
            "memory usage: 1.2+ MB\n"
          ]
        }
      ],
      "source": [
        "firstp.info()\n"
      ]
    },
    {
      "cell_type": "code",
      "execution_count": null,
      "metadata": {
        "colab": {
          "base_uri": "https://localhost:8080/",
          "height": 386
        },
        "id": "EysBEYLvFKgj",
        "outputId": "63f0b677-c3a0-4bb2-f126-5dbcff55610b"
      },
      "outputs": [
        {
          "output_type": "execute_result",
          "data": {
            "text/plain": [
              "   customerID  BeginDate    EndDate  Target  Type  PaperlessBilling  \\\n",
              "0  7590-VHVEG 2020-01-01 2022-02-01       1     0                 1   \n",
              "1  5575-GNVDE 2017-04-01 2022-02-01       1     1                 0   \n",
              "2  3668-QPYBK 2019-10-01 2019-12-01       0     0                 1   \n",
              "3  7795-CFOCW 2016-05-01 2022-02-01       1     1                 0   \n",
              "4  9237-HQITU 2019-09-01 2019-11-01       0     0                 1   \n",
              "\n",
              "   PaymentMethod  MonthlyCharges  TotalCharges  InternetService  ...  \\\n",
              "0              0           29.85         29.85              0.0  ...   \n",
              "1              1           56.95       1889.50              0.0  ...   \n",
              "2              1           53.85        108.15              0.0  ...   \n",
              "3              2           42.30       1840.75              0.0  ...   \n",
              "4              0           70.70        151.65              1.0  ...   \n",
              "\n",
              "   OnlineBackup  DeviceProtection  TechSupport  StreamingTV  StreamingMovies  \\\n",
              "0           1.0               0.0          0.0          0.0              0.0   \n",
              "1           0.0               1.0          0.0          0.0              0.0   \n",
              "2           1.0               0.0          0.0          0.0              0.0   \n",
              "3           0.0               1.0          1.0          0.0              0.0   \n",
              "4           0.0               0.0          0.0          0.0              0.0   \n",
              "\n",
              "   gender  SeniorCitizen  Partner  Dependents  MultipleLines  \n",
              "0       1              0        1           0            NaN  \n",
              "1       0              0        0           0            0.0  \n",
              "2       0              0        0           0            0.0  \n",
              "3       0              0        0           0            NaN  \n",
              "4       1              0        0           0            0.0  \n",
              "\n",
              "[5 rows x 21 columns]"
            ],
            "text/html": [
              "\n",
              "  <div id=\"df-6b15f66a-5f93-4123-958f-c787a6426c21\">\n",
              "    <div class=\"colab-df-container\">\n",
              "      <div>\n",
              "<style scoped>\n",
              "    .dataframe tbody tr th:only-of-type {\n",
              "        vertical-align: middle;\n",
              "    }\n",
              "\n",
              "    .dataframe tbody tr th {\n",
              "        vertical-align: top;\n",
              "    }\n",
              "\n",
              "    .dataframe thead th {\n",
              "        text-align: right;\n",
              "    }\n",
              "</style>\n",
              "<table border=\"1\" class=\"dataframe\">\n",
              "  <thead>\n",
              "    <tr style=\"text-align: right;\">\n",
              "      <th></th>\n",
              "      <th>customerID</th>\n",
              "      <th>BeginDate</th>\n",
              "      <th>EndDate</th>\n",
              "      <th>Target</th>\n",
              "      <th>Type</th>\n",
              "      <th>PaperlessBilling</th>\n",
              "      <th>PaymentMethod</th>\n",
              "      <th>MonthlyCharges</th>\n",
              "      <th>TotalCharges</th>\n",
              "      <th>InternetService</th>\n",
              "      <th>...</th>\n",
              "      <th>OnlineBackup</th>\n",
              "      <th>DeviceProtection</th>\n",
              "      <th>TechSupport</th>\n",
              "      <th>StreamingTV</th>\n",
              "      <th>StreamingMovies</th>\n",
              "      <th>gender</th>\n",
              "      <th>SeniorCitizen</th>\n",
              "      <th>Partner</th>\n",
              "      <th>Dependents</th>\n",
              "      <th>MultipleLines</th>\n",
              "    </tr>\n",
              "  </thead>\n",
              "  <tbody>\n",
              "    <tr>\n",
              "      <th>0</th>\n",
              "      <td>7590-VHVEG</td>\n",
              "      <td>2020-01-01</td>\n",
              "      <td>2022-02-01</td>\n",
              "      <td>1</td>\n",
              "      <td>0</td>\n",
              "      <td>1</td>\n",
              "      <td>0</td>\n",
              "      <td>29.85</td>\n",
              "      <td>29.85</td>\n",
              "      <td>0.0</td>\n",
              "      <td>...</td>\n",
              "      <td>1.0</td>\n",
              "      <td>0.0</td>\n",
              "      <td>0.0</td>\n",
              "      <td>0.0</td>\n",
              "      <td>0.0</td>\n",
              "      <td>1</td>\n",
              "      <td>0</td>\n",
              "      <td>1</td>\n",
              "      <td>0</td>\n",
              "      <td>NaN</td>\n",
              "    </tr>\n",
              "    <tr>\n",
              "      <th>1</th>\n",
              "      <td>5575-GNVDE</td>\n",
              "      <td>2017-04-01</td>\n",
              "      <td>2022-02-01</td>\n",
              "      <td>1</td>\n",
              "      <td>1</td>\n",
              "      <td>0</td>\n",
              "      <td>1</td>\n",
              "      <td>56.95</td>\n",
              "      <td>1889.50</td>\n",
              "      <td>0.0</td>\n",
              "      <td>...</td>\n",
              "      <td>0.0</td>\n",
              "      <td>1.0</td>\n",
              "      <td>0.0</td>\n",
              "      <td>0.0</td>\n",
              "      <td>0.0</td>\n",
              "      <td>0</td>\n",
              "      <td>0</td>\n",
              "      <td>0</td>\n",
              "      <td>0</td>\n",
              "      <td>0.0</td>\n",
              "    </tr>\n",
              "    <tr>\n",
              "      <th>2</th>\n",
              "      <td>3668-QPYBK</td>\n",
              "      <td>2019-10-01</td>\n",
              "      <td>2019-12-01</td>\n",
              "      <td>0</td>\n",
              "      <td>0</td>\n",
              "      <td>1</td>\n",
              "      <td>1</td>\n",
              "      <td>53.85</td>\n",
              "      <td>108.15</td>\n",
              "      <td>0.0</td>\n",
              "      <td>...</td>\n",
              "      <td>1.0</td>\n",
              "      <td>0.0</td>\n",
              "      <td>0.0</td>\n",
              "      <td>0.0</td>\n",
              "      <td>0.0</td>\n",
              "      <td>0</td>\n",
              "      <td>0</td>\n",
              "      <td>0</td>\n",
              "      <td>0</td>\n",
              "      <td>0.0</td>\n",
              "    </tr>\n",
              "    <tr>\n",
              "      <th>3</th>\n",
              "      <td>7795-CFOCW</td>\n",
              "      <td>2016-05-01</td>\n",
              "      <td>2022-02-01</td>\n",
              "      <td>1</td>\n",
              "      <td>1</td>\n",
              "      <td>0</td>\n",
              "      <td>2</td>\n",
              "      <td>42.30</td>\n",
              "      <td>1840.75</td>\n",
              "      <td>0.0</td>\n",
              "      <td>...</td>\n",
              "      <td>0.0</td>\n",
              "      <td>1.0</td>\n",
              "      <td>1.0</td>\n",
              "      <td>0.0</td>\n",
              "      <td>0.0</td>\n",
              "      <td>0</td>\n",
              "      <td>0</td>\n",
              "      <td>0</td>\n",
              "      <td>0</td>\n",
              "      <td>NaN</td>\n",
              "    </tr>\n",
              "    <tr>\n",
              "      <th>4</th>\n",
              "      <td>9237-HQITU</td>\n",
              "      <td>2019-09-01</td>\n",
              "      <td>2019-11-01</td>\n",
              "      <td>0</td>\n",
              "      <td>0</td>\n",
              "      <td>1</td>\n",
              "      <td>0</td>\n",
              "      <td>70.70</td>\n",
              "      <td>151.65</td>\n",
              "      <td>1.0</td>\n",
              "      <td>...</td>\n",
              "      <td>0.0</td>\n",
              "      <td>0.0</td>\n",
              "      <td>0.0</td>\n",
              "      <td>0.0</td>\n",
              "      <td>0.0</td>\n",
              "      <td>1</td>\n",
              "      <td>0</td>\n",
              "      <td>0</td>\n",
              "      <td>0</td>\n",
              "      <td>0.0</td>\n",
              "    </tr>\n",
              "  </tbody>\n",
              "</table>\n",
              "<p>5 rows × 21 columns</p>\n",
              "</div>\n",
              "      <button class=\"colab-df-convert\" onclick=\"convertToInteractive('df-6b15f66a-5f93-4123-958f-c787a6426c21')\"\n",
              "              title=\"Convert this dataframe to an interactive table.\"\n",
              "              style=\"display:none;\">\n",
              "        \n",
              "  <svg xmlns=\"http://www.w3.org/2000/svg\" height=\"24px\"viewBox=\"0 0 24 24\"\n",
              "       width=\"24px\">\n",
              "    <path d=\"M0 0h24v24H0V0z\" fill=\"none\"/>\n",
              "    <path d=\"M18.56 5.44l.94 2.06.94-2.06 2.06-.94-2.06-.94-.94-2.06-.94 2.06-2.06.94zm-11 1L8.5 8.5l.94-2.06 2.06-.94-2.06-.94L8.5 2.5l-.94 2.06-2.06.94zm10 10l.94 2.06.94-2.06 2.06-.94-2.06-.94-.94-2.06-.94 2.06-2.06.94z\"/><path d=\"M17.41 7.96l-1.37-1.37c-.4-.4-.92-.59-1.43-.59-.52 0-1.04.2-1.43.59L10.3 9.45l-7.72 7.72c-.78.78-.78 2.05 0 2.83L4 21.41c.39.39.9.59 1.41.59.51 0 1.02-.2 1.41-.59l7.78-7.78 2.81-2.81c.8-.78.8-2.07 0-2.86zM5.41 20L4 18.59l7.72-7.72 1.47 1.35L5.41 20z\"/>\n",
              "  </svg>\n",
              "      </button>\n",
              "      \n",
              "  <style>\n",
              "    .colab-df-container {\n",
              "      display:flex;\n",
              "      flex-wrap:wrap;\n",
              "      gap: 12px;\n",
              "    }\n",
              "\n",
              "    .colab-df-convert {\n",
              "      background-color: #E8F0FE;\n",
              "      border: none;\n",
              "      border-radius: 50%;\n",
              "      cursor: pointer;\n",
              "      display: none;\n",
              "      fill: #1967D2;\n",
              "      height: 32px;\n",
              "      padding: 0 0 0 0;\n",
              "      width: 32px;\n",
              "    }\n",
              "\n",
              "    .colab-df-convert:hover {\n",
              "      background-color: #E2EBFA;\n",
              "      box-shadow: 0px 1px 2px rgba(60, 64, 67, 0.3), 0px 1px 3px 1px rgba(60, 64, 67, 0.15);\n",
              "      fill: #174EA6;\n",
              "    }\n",
              "\n",
              "    [theme=dark] .colab-df-convert {\n",
              "      background-color: #3B4455;\n",
              "      fill: #D2E3FC;\n",
              "    }\n",
              "\n",
              "    [theme=dark] .colab-df-convert:hover {\n",
              "      background-color: #434B5C;\n",
              "      box-shadow: 0px 1px 3px 1px rgba(0, 0, 0, 0.15);\n",
              "      filter: drop-shadow(0px 1px 2px rgba(0, 0, 0, 0.3));\n",
              "      fill: #FFFFFF;\n",
              "    }\n",
              "  </style>\n",
              "\n",
              "      <script>\n",
              "        const buttonEl =\n",
              "          document.querySelector('#df-6b15f66a-5f93-4123-958f-c787a6426c21 button.colab-df-convert');\n",
              "        buttonEl.style.display =\n",
              "          google.colab.kernel.accessAllowed ? 'block' : 'none';\n",
              "\n",
              "        async function convertToInteractive(key) {\n",
              "          const element = document.querySelector('#df-6b15f66a-5f93-4123-958f-c787a6426c21');\n",
              "          const dataTable =\n",
              "            await google.colab.kernel.invokeFunction('convertToInteractive',\n",
              "                                                     [key], {});\n",
              "          if (!dataTable) return;\n",
              "\n",
              "          const docLinkHtml = 'Like what you see? Visit the ' +\n",
              "            '<a target=\"_blank\" href=https://colab.research.google.com/notebooks/data_table.ipynb>data table notebook</a>'\n",
              "            + ' to learn more about interactive tables.';\n",
              "          element.innerHTML = '';\n",
              "          dataTable['output_type'] = 'display_data';\n",
              "          await google.colab.output.renderOutput(dataTable, element);\n",
              "          const docLink = document.createElement('div');\n",
              "          docLink.innerHTML = docLinkHtml;\n",
              "          element.appendChild(docLink);\n",
              "        }\n",
              "      </script>\n",
              "    </div>\n",
              "  </div>\n",
              "  "
            ]
          },
          "metadata": {},
          "execution_count": 533
        }
      ],
      "source": [
        "firstp.head()"
      ]
    },
    {
      "cell_type": "markdown",
      "source": [
        "Этот код удаляет три столбца из объекта DataFrame \"firstp\": 'customerID', 'BeginDate', 'EndDate'."
      ],
      "metadata": {
        "id": "SRpJOYOmRUU8"
      }
    },
    {
      "cell_type": "code",
      "source": [
        "firstp = firstp.drop(['customerID','BeginDate','EndDate'], axis=1)"
      ],
      "metadata": {
        "id": "nkZ_DDnmZYka"
      },
      "execution_count": null,
      "outputs": []
    },
    {
      "cell_type": "markdown",
      "metadata": {
        "id": "xt6O-l-Y2XFQ"
      },
      "source": [
        "Все уникальные значения в столбце  InternetService"
      ]
    },
    {
      "cell_type": "code",
      "execution_count": null,
      "metadata": {
        "colab": {
          "base_uri": "https://localhost:8080/"
        },
        "id": "jRtX4w29JBAE",
        "outputId": "5a94fce2-44cc-468b-926b-d20b4c15f09e"
      },
      "outputs": [
        {
          "output_type": "stream",
          "name": "stdout",
          "text": [
            "[ 0.  1. nan]\n"
          ]
        }
      ],
      "source": [
        "print(firstp.InternetService.unique())"
      ]
    },
    {
      "cell_type": "markdown",
      "source": [
        "Просмотрим количество пропущенных строк(NaN) в столбце 'InternetService"
      ],
      "metadata": {
        "id": "fSjK3ngv8FSk"
      }
    },
    {
      "cell_type": "code",
      "execution_count": null,
      "metadata": {
        "colab": {
          "base_uri": "https://localhost:8080/"
        },
        "id": "IwpJjV0t9AFD",
        "outputId": "0a57601a-ccd4-49a3-ecf3-d6045a6812b6"
      },
      "outputs": [
        {
          "output_type": "execute_result",
          "data": {
            "text/plain": [
              "1526"
            ]
          },
          "metadata": {},
          "execution_count": 536
        }
      ],
      "source": [
        "firstp['InternetService'].isnull().sum().sum ()\n"
      ]
    },
    {
      "cell_type": "markdown",
      "metadata": {
        "id": "DUHn4YPJVEby"
      },
      "source": [
        "Просмотрим, какой процент из всех значений занимают наши пропуски в данных."
      ]
    },
    {
      "cell_type": "markdown",
      "source": [
        "Удаление пропусков в данных (NaN-значений) может быть осуществлено по нескольким причинам:\n",
        "\n",
        "  1) Пропуски в данных могут быть вызваны ошибками в сборе или вводе данных. В этом случае удаление пропусков может привести к повышению качества данных и исключению возможных ошибок при анализе и использовании этих данных.\n",
        "\n",
        "  2) Некоторые алгоритмы машинного обучения могут не работать с пропущенными значениями. В этом случае удаление пропусков может позволить использовать эти данные для обучения моделей машинного обучения.\n",
        "\n",
        "  3) Некоторые статистические методы требуют полных данных для корректного вычисления. В этом случае удаление пропусков может позволить получить более точные результаты при анализе этих данных."
      ],
      "metadata": {
        "id": "N962idG3Ros6"
      }
    },
    {
      "cell_type": "code",
      "execution_count": null,
      "metadata": {
        "colab": {
          "base_uri": "https://localhost:8080/"
        },
        "id": "dFKw__HmK7VI",
        "outputId": "00f3ff67-92d0-4bb0-d1fa-adb09c1c5bb0"
      },
      "outputs": [
        {
          "output_type": "execute_result",
          "data": {
            "text/plain": [
              "Target               0.00\n",
              "Type                 0.00\n",
              "PaperlessBilling     0.00\n",
              "PaymentMethod        0.00\n",
              "MonthlyCharges       0.00\n",
              "TotalCharges         0.00\n",
              "InternetService     21.67\n",
              "OnlineSecurity      21.67\n",
              "OnlineBackup        21.67\n",
              "DeviceProtection    21.67\n",
              "TechSupport         21.67\n",
              "StreamingTV         21.67\n",
              "StreamingMovies     21.67\n",
              "gender               0.00\n",
              "SeniorCitizen        0.00\n",
              "Partner              0.00\n",
              "Dependents           0.00\n",
              "MultipleLines        9.68\n",
              "dtype: float64"
            ]
          },
          "metadata": {},
          "execution_count": 537
        }
      ],
      "source": [
        "(firstp.isna().sum() / len(firstp)).round(4) * 100"
      ]
    },
    {
      "cell_type": "markdown",
      "source": [
        "Код firstp['InternetService'].value_counts() используется для подсчета количества уникальных значений в столбце 'InternetService' в DataFrame \"firstp\"."
      ],
      "metadata": {
        "id": "T3WpO4SiVjHe"
      }
    },
    {
      "cell_type": "code",
      "source": [
        "firstp['InternetService'].value_counts()"
      ],
      "metadata": {
        "colab": {
          "base_uri": "https://localhost:8080/"
        },
        "id": "C1FFEWwNvPvc",
        "outputId": "cc808793-e708-4eb2-debd-c73b3a121538"
      },
      "execution_count": null,
      "outputs": [
        {
          "output_type": "execute_result",
          "data": {
            "text/plain": [
              "1.0    3096\n",
              "0.0    2421\n",
              "Name: InternetService, dtype: int64"
            ]
          },
          "metadata": {},
          "execution_count": 538
        }
      ]
    },
    {
      "cell_type": "markdown",
      "source": [
        "Код firstp['InternetService'].value_counts(normalize=True) используется для подсчета относительной частоты уникальных значений в столбце 'InternetService' в DataFrame \"firstp\"."
      ],
      "metadata": {
        "id": "U-nrheh-WNcX"
      }
    },
    {
      "cell_type": "code",
      "source": [
        "value_counts = firstp['InternetService'].value_counts(normalize=True)\n",
        "print(value_counts)"
      ],
      "metadata": {
        "colab": {
          "base_uri": "https://localhost:8080/"
        },
        "id": "TUMw4zBrvPtN",
        "outputId": "4747c2e2-ec0c-4598-c501-dcb136e86029"
      },
      "execution_count": null,
      "outputs": [
        {
          "output_type": "stream",
          "name": "stdout",
          "text": [
            "1.0    0.561175\n",
            "0.0    0.438825\n",
            "Name: InternetService, dtype: float64\n"
          ]
        }
      ]
    },
    {
      "cell_type": "markdown",
      "source": [
        "Код использует библиотеку scikit-learn для заполнения пропущенных значений в DataFrame \"firstp\" методом KNN (k-nearest neighbors)."
      ],
      "metadata": {
        "id": "T0RigSmLbjRQ"
      }
    },
    {
      "cell_type": "code",
      "source": [
        "imputer = KNNImputer(n_neighbors=2)\n",
        "firstp = pd.DataFrame(imputer.fit_transform(firstp), columns=firstp.columns)"
      ],
      "metadata": {
        "id": "-7lztf6Nu44R"
      },
      "execution_count": null,
      "outputs": []
    },
    {
      "cell_type": "markdown",
      "source": [
        "Просмотрим, что в нашей бд нет пропусков."
      ],
      "metadata": {
        "id": "mTJXiyAUbk4J"
      }
    },
    {
      "cell_type": "code",
      "source": [
        "(firstp.isna().sum() / len(firstp)).round(4) * 100"
      ],
      "metadata": {
        "colab": {
          "base_uri": "https://localhost:8080/"
        },
        "id": "bhKG0qAEu410",
        "outputId": "fabbf395-0317-4202-ea8b-74f46f1bcaf0"
      },
      "execution_count": null,
      "outputs": [
        {
          "output_type": "execute_result",
          "data": {
            "text/plain": [
              "Target              0.0\n",
              "Type                0.0\n",
              "PaperlessBilling    0.0\n",
              "PaymentMethod       0.0\n",
              "MonthlyCharges      0.0\n",
              "TotalCharges        0.0\n",
              "InternetService     0.0\n",
              "OnlineSecurity      0.0\n",
              "OnlineBackup        0.0\n",
              "DeviceProtection    0.0\n",
              "TechSupport         0.0\n",
              "StreamingTV         0.0\n",
              "StreamingMovies     0.0\n",
              "gender              0.0\n",
              "SeniorCitizen       0.0\n",
              "Partner             0.0\n",
              "Dependents          0.0\n",
              "MultipleLines       0.0\n",
              "dtype: float64"
            ]
          },
          "metadata": {},
          "execution_count": 541
        }
      ]
    },
    {
      "cell_type": "markdown",
      "source": [
        "После заполнения пропущенных значений методом KNN, код firstp['InternetService'].value_counts() используется для подсчета количества уникальных значений в столбце 'InternetService' в DataFrame \"firstp\"."
      ],
      "metadata": {
        "id": "DThfs_Hqs7Sk"
      }
    },
    {
      "cell_type": "code",
      "source": [
        "firstp['InternetService'].value_counts()"
      ],
      "metadata": {
        "colab": {
          "base_uri": "https://localhost:8080/"
        },
        "id": "NFyUyGqCvkid",
        "outputId": "6dda106b-9614-4258-8841-ae86afa13c06"
      },
      "execution_count": null,
      "outputs": [
        {
          "output_type": "execute_result",
          "data": {
            "text/plain": [
              "0.0    3947\n",
              "1.0    3096\n",
              "Name: InternetService, dtype: int64"
            ]
          },
          "metadata": {},
          "execution_count": 542
        }
      ]
    },
    {
      "cell_type": "markdown",
      "source": [
        "Данный код используется для подсчета относительных частот уникальных значений в столбце 'InternetService' DataFrame \"firstp\"."
      ],
      "metadata": {
        "id": "_Y7HL3AFtFKa"
      }
    },
    {
      "cell_type": "code",
      "source": [
        "value_counts = firstp['InternetService'].value_counts(normalize=True)\n",
        "print(value_counts)"
      ],
      "metadata": {
        "colab": {
          "base_uri": "https://localhost:8080/"
        },
        "id": "RBdnUT0LvZFY",
        "outputId": "61a95e76-f2a7-4f8c-872c-7fa4d933f4a2"
      },
      "execution_count": null,
      "outputs": [
        {
          "output_type": "stream",
          "name": "stdout",
          "text": [
            "0.0    0.560415\n",
            "1.0    0.439585\n",
            "Name: InternetService, dtype: float64\n"
          ]
        }
      ]
    },
    {
      "cell_type": "markdown",
      "source": [
        "Данный код используется для поиска и подсчета дубликатов в DataFrame \"firstp\"."
      ],
      "metadata": {
        "id": "WMlXLDDTtRyy"
      }
    },
    {
      "cell_type": "code",
      "source": [
        "duplicates = firstp.duplicated()\n",
        "\n",
        "# распечатаем фрейм данных и булеву серию\n",
        "print(\"Количество дубликатов:\", duplicates.sum())"
      ],
      "metadata": {
        "colab": {
          "base_uri": "https://localhost:8080/"
        },
        "id": "utcXpGxCu9Km",
        "outputId": "e1e5c2c9-bc7b-4e2f-a9aa-1b4d197568f7"
      },
      "execution_count": null,
      "outputs": [
        {
          "output_type": "stream",
          "name": "stdout",
          "text": [
            "Количество дубликатов: 22\n"
          ]
        }
      ]
    },
    {
      "cell_type": "markdown",
      "source": [
        "Данный код используется для удаления дубликатов в DataFrame \"firstp\"."
      ],
      "metadata": {
        "id": "0hBtLEl6t3Nm"
      }
    },
    {
      "cell_type": "code",
      "source": [
        "firstp.drop_duplicates(inplace=True)\n"
      ],
      "metadata": {
        "id": "eb-xmbANu9IT"
      },
      "execution_count": null,
      "outputs": []
    },
    {
      "cell_type": "markdown",
      "source": [
        "Последняя проверка на то, что у нас в датасете есть дубликаты."
      ],
      "metadata": {
        "id": "Tjqojs-eKh4J"
      }
    },
    {
      "cell_type": "code",
      "source": [
        "duplicates = firstp.duplicated()\n",
        "\n",
        "# распечатаем фрейм данных и булеву серию\n",
        "print(\"Количество дубликатов:\", duplicates.sum())"
      ],
      "metadata": {
        "colab": {
          "base_uri": "https://localhost:8080/"
        },
        "id": "nnNAIQkyu9Fw",
        "outputId": "2b553c62-bb52-4477-c866-6a9c03a3ae9b"
      },
      "execution_count": null,
      "outputs": [
        {
          "output_type": "stream",
          "name": "stdout",
          "text": [
            "Количество дубликатов: 0\n"
          ]
        }
      ]
    },
    {
      "cell_type": "code",
      "source": [
        "firstp.info()\n"
      ],
      "metadata": {
        "colab": {
          "base_uri": "https://localhost:8080/"
        },
        "id": "-Y86P5INu8i2",
        "outputId": "12520d3b-f4a4-45e7-b098-d4db54b1377e"
      },
      "execution_count": null,
      "outputs": [
        {
          "output_type": "stream",
          "name": "stdout",
          "text": [
            "<class 'pandas.core.frame.DataFrame'>\n",
            "Int64Index: 7021 entries, 0 to 7042\n",
            "Data columns (total 18 columns):\n",
            " #   Column            Non-Null Count  Dtype  \n",
            "---  ------            --------------  -----  \n",
            " 0   Target            7021 non-null   float64\n",
            " 1   Type              7021 non-null   float64\n",
            " 2   PaperlessBilling  7021 non-null   float64\n",
            " 3   PaymentMethod     7021 non-null   float64\n",
            " 4   MonthlyCharges    7021 non-null   float64\n",
            " 5   TotalCharges      7021 non-null   float64\n",
            " 6   InternetService   7021 non-null   float64\n",
            " 7   OnlineSecurity    7021 non-null   float64\n",
            " 8   OnlineBackup      7021 non-null   float64\n",
            " 9   DeviceProtection  7021 non-null   float64\n",
            " 10  TechSupport       7021 non-null   float64\n",
            " 11  StreamingTV       7021 non-null   float64\n",
            " 12  StreamingMovies   7021 non-null   float64\n",
            " 13  gender            7021 non-null   float64\n",
            " 14  SeniorCitizen     7021 non-null   float64\n",
            " 15  Partner           7021 non-null   float64\n",
            " 16  Dependents        7021 non-null   float64\n",
            " 17  MultipleLines     7021 non-null   float64\n",
            "dtypes: float64(18)\n",
            "memory usage: 1.0 MB\n"
          ]
        }
      ]
    },
    {
      "cell_type": "markdown",
      "source": [
        "Данный код используется для подсчета количества уникальных значений в каждом столбце DataFrame \"firstp\".\n",
        "\n",
        "Результатом выполнения данного кода является pandas Series, в котором для каждого столбца DataFrame \"firstp\" содержится количество уникальных значений в этом столбце."
      ],
      "metadata": {
        "id": "lw4p90qoKxFg"
      }
    },
    {
      "cell_type": "code",
      "source": [
        "unique_values = firstp.nunique()\n",
        "\n",
        "# Выводим количество уникальных значений в каждом столбце\n",
        "print(unique_values)"
      ],
      "metadata": {
        "colab": {
          "base_uri": "https://localhost:8080/"
        },
        "id": "2isJ9kfgu8gs",
        "outputId": "3583b82d-3e04-4572-b67f-da00de8b51ec"
      },
      "execution_count": null,
      "outputs": [
        {
          "output_type": "stream",
          "name": "stdout",
          "text": [
            "Target                 2\n",
            "Type                   3\n",
            "PaperlessBilling       2\n",
            "PaymentMethod          4\n",
            "MonthlyCharges      1585\n",
            "TotalCharges        6541\n",
            "InternetService        2\n",
            "OnlineSecurity         3\n",
            "OnlineBackup           3\n",
            "DeviceProtection       3\n",
            "TechSupport            3\n",
            "StreamingTV            3\n",
            "StreamingMovies        3\n",
            "gender                 2\n",
            "SeniorCitizen          2\n",
            "Partner                2\n",
            "Dependents             2\n",
            "MultipleLines          3\n",
            "dtype: int64\n"
          ]
        }
      ]
    },
    {
      "cell_type": "markdown",
      "source": [
        "Данный код используется для подсчета количества уникальных значений в столбце 'Type' DataFrame \"firstp\" и вывода результатов подсчета."
      ],
      "metadata": {
        "id": "rLkaQgnTLYxW"
      }
    },
    {
      "cell_type": "code",
      "source": [
        "firstp['Type'].value_counts()"
      ],
      "metadata": {
        "colab": {
          "base_uri": "https://localhost:8080/"
        },
        "id": "8WeNQRxXu8ee",
        "outputId": "71198632-53d6-4864-919f-a6e85affcbb7"
      },
      "execution_count": null,
      "outputs": [
        {
          "output_type": "execute_result",
          "data": {
            "text/plain": [
              "0.0    3853\n",
              "2.0    1695\n",
              "1.0    1473\n",
              "Name: Type, dtype: int64"
            ]
          },
          "metadata": {},
          "execution_count": 549
        }
      ]
    },
    {
      "cell_type": "markdown",
      "source": [
        "Snake_Case\n"
      ],
      "metadata": {
        "id": "88SpjlzV2bSj"
      }
    },
    {
      "cell_type": "markdown",
      "source": [
        "Snake_case - это стиль именования, который используется в программировании и других областях для составления имен переменных, функций, методов и других идентификаторов.\n",
        "\n",
        "Основные характеристики стиля snake_case:\n",
        "\n",
        "    Имена записываются в нижнем регистре.\n",
        "    Слова разделяются символом подчеркивания ('_').\n",
        "    Пробелы не используются.\n",
        "    Имена должны быть описательными и легко читаемыми."
      ],
      "metadata": {
        "id": "maOehkALLp6x"
      }
    },
    {
      "cell_type": "code",
      "source": [
        "firstp.rename(columns={'PaperlessBilling': 'paperless_billing',\n",
        "                   'Target': 'target',\n",
        "                   'Type': 'type',\n",
        "                   'PaymentMethod': 'payment_method',\n",
        "                   'InternetService': 'internet_service',\n",
        "                   'OnlineSecurity': 'online_security',\n",
        "                   'OnlineBackup': 'online_backup',\n",
        "                   'DeviceProtection': 'device_protection',\n",
        "                   'TechSupport': 'tech_support',\n",
        "                   'StreamingTV': 'streaming_tv',\n",
        "                   'StreamingMovies': 'streaming_movies',\n",
        "                   'SeniorCitizen': 'senior_citizen',\n",
        "                   'MultipleLines': 'multiple_lines',\n",
        "                   'Partner': 'partner',\n",
        "                   'Dependents': 'dependents',\n",
        "\n",
        "\n",
        "\n",
        "                   'MonthlyCharges': 'monthly_charges',\n",
        "                   'TotalCharges': 'total_charges',},\n",
        "          inplace=True)"
      ],
      "metadata": {
        "id": "u0VI3j431YCR"
      },
      "execution_count": null,
      "outputs": []
    },
    {
      "cell_type": "markdown",
      "source": [
        "Посмотрим, что у нас произошли изменения в датасете или нет?"
      ],
      "metadata": {
        "id": "eHoINiUcLtza"
      }
    },
    {
      "cell_type": "code",
      "source": [
        "firstp.info()"
      ],
      "metadata": {
        "colab": {
          "base_uri": "https://localhost:8080/"
        },
        "id": "rXIv0nrLu8cP",
        "outputId": "7c4d73c6-be7c-461d-f2d8-51423399c098"
      },
      "execution_count": null,
      "outputs": [
        {
          "output_type": "stream",
          "name": "stdout",
          "text": [
            "<class 'pandas.core.frame.DataFrame'>\n",
            "Int64Index: 7021 entries, 0 to 7042\n",
            "Data columns (total 18 columns):\n",
            " #   Column             Non-Null Count  Dtype  \n",
            "---  ------             --------------  -----  \n",
            " 0   target             7021 non-null   float64\n",
            " 1   type               7021 non-null   float64\n",
            " 2   paperless_billing  7021 non-null   float64\n",
            " 3   payment_method     7021 non-null   float64\n",
            " 4   monthly_charges    7021 non-null   float64\n",
            " 5   total_charges      7021 non-null   float64\n",
            " 6   internet_service   7021 non-null   float64\n",
            " 7   online_security    7021 non-null   float64\n",
            " 8   online_backup      7021 non-null   float64\n",
            " 9   device_protection  7021 non-null   float64\n",
            " 10  tech_support       7021 non-null   float64\n",
            " 11  streaming_tv       7021 non-null   float64\n",
            " 12  streaming_movies   7021 non-null   float64\n",
            " 13  gender             7021 non-null   float64\n",
            " 14  senior_citizen     7021 non-null   float64\n",
            " 15  partner            7021 non-null   float64\n",
            " 16  dependents         7021 non-null   float64\n",
            " 17  multiple_lines     7021 non-null   float64\n",
            "dtypes: float64(18)\n",
            "memory usage: 1.0 MB\n"
          ]
        }
      ]
    },
    {
      "cell_type": "markdown",
      "source": [
        "Этот код строит гистограмму распределения ежемесячных платежей (monthly_charges) в датафрейме firstp."
      ],
      "metadata": {
        "id": "VIFV4gNLMJ7A"
      }
    },
    {
      "cell_type": "code",
      "source": [
        "sns.histplot(firstp['monthly_charges'], kde=False)\n",
        "plt.show()"
      ],
      "metadata": {
        "colab": {
          "base_uri": "https://localhost:8080/",
          "height": 450
        },
        "id": "235HWDHT4Pju",
        "outputId": "f5dd27c9-bbde-4ebf-f496-61605c7768d8"
      },
      "execution_count": null,
      "outputs": [
        {
          "output_type": "display_data",
          "data": {
            "text/plain": [
              "<Figure size 640x480 with 1 Axes>"
            ],
            "image/png": "[encoded data removed]"
          },
          "metadata": {}
        }
      ]
    },
    {
      "cell_type": "markdown",
      "source": [
        "На графике мы видим распределение ежемесячной платы клиентов за услуги. Большинство клиентов платят от 20 до 100 долларов в месяц. Мы также видим несколько пиков в районе 20, 35, 70 и 100 долларов, что может указывать на наличие различных тарифов. Кроме того, у нас есть некоторые выбросы, когда клиенты платят более 100 долларов в месяц. Это может быть связано с использованием дополнительных услуг или более высокими тарифами."
      ],
      "metadata": {
        "id": "WPD761NnMM1t"
      }
    },
    {
      "cell_type": "markdown",
      "source": [
        "Распределение Целевого признака"
      ],
      "metadata": {
        "id": "tu99Vn5GAEUo"
      }
    },
    {
      "cell_type": "code",
      "source": [
        "sns.countplot(x='target', data=firstp)"
      ],
      "metadata": {
        "colab": {
          "base_uri": "https://localhost:8080/",
          "height": 467
        },
        "id": "aqc8T6Hh4Peq",
        "outputId": "0784376d-3aa7-4af5-de6b-8201587ffd83"
      },
      "execution_count": null,
      "outputs": [
        {
          "output_type": "execute_result",
          "data": {
            "text/plain": [
              "<Axes: xlabel='target', ylabel='count'>"
            ]
          },
          "metadata": {},
          "execution_count": 553
        },
        {
          "output_type": "display_data",
          "data": {
            "text/plain": [
              "<Figure size 640x480 with 1 Axes>"
            ],
            "image/png": "[encoded data removed]"
          },
          "metadata": {}
        }
      ]
    },
    {
      "cell_type": "markdown",
      "source": [
        "Тут можно заметить, что наш целевой признак имеет проблему в том, что он не сбалансирован. Это может привести к тому, что модель может склоняться к предсказанию более представительного класса, игнорируя менее представительный класс."
      ],
      "metadata": {
        "id": "qxi_OZYcMP0B"
      }
    },
    {
      "cell_type": "code",
      "source": [
        "target_counts = firstp['target'].value_counts()\n",
        "print(target_counts)"
      ],
      "metadata": {
        "colab": {
          "base_uri": "https://localhost:8080/"
        },
        "id": "wix8s0ks4Pcw",
        "outputId": "ada78682-992c-4391-ec51-d10d55e98877"
      },
      "execution_count": null,
      "outputs": [
        {
          "output_type": "stream",
          "name": "stdout",
          "text": [
            "1.0    5164\n",
            "0.0    1857\n",
            "Name: target, dtype: int64\n"
          ]
        }
      ]
    },
    {
      "cell_type": "markdown",
      "source": [
        "Из этого можно сделать вывод, что классы несбалансированы, так как количество объектов в классе 1.0 существенно меньше, чем в классе 0.0.\n",
        "\n",
        "Наличие дисбаланса классов может повлиять на результаты модели, поскольку алгоритмы машинного обучения стремятся минимизировать ошибки наиболее распространенного класса."
      ],
      "metadata": {
        "id": "xQ5N4DrGBOS-"
      }
    },
    {
      "cell_type": "markdown",
      "source": [
        "Данный код выполняет балансировку классов в датасете firstp, который содержит данные о клиентах."
      ],
      "metadata": {
        "id": "4Yv9XmmIM6UH"
      }
    },
    {
      "cell_type": "code",
      "source": [
        "# positive_examples = firstp[firstp['target'] == 1]\n",
        "# negative_examples = firstp[firstp['target'] == 0]\n",
        "\n",
        "# # Сбалансируем количество примеров\n",
        "# n_samples = min(len(positive_examples), len(negative_examples))\n",
        "\n",
        "# # Сэмплируем случайные примеры из положительных и отрицательных примеров\n",
        "# positive_examples_sampled = resample(positive_examples, n_samples=n_samples, replace=False)\n",
        "# negative_examples_sampled = resample(negative_examples, n_samples=n_samples, replace=False)\n",
        "\n",
        "# # Объединяем выбранные примеры в новый датафрейм\n",
        "# df_b= pd.concat([positive_examples_sampled, negative_examples_sampled])\n",
        "\n",
        "# # Перемешиваем примеры в случайном порядке\n",
        "# df_b= df_b.sample(frac=1, random_state=42)"
      ],
      "metadata": {
        "id": "1GDgVUFl4PaH"
      },
      "execution_count": null,
      "outputs": []
    },
    {
      "cell_type": "markdown",
      "source": [
        "Мы можем взять и сбалансировать нашу целевую функцию, но в дальнейшем это уменьшит у нас пару процентов, как точности, так и Validation ROC ACU.\n",
        "\n",
        "Поэтому нне будем прибегать к такому методу и оставим наш несбалансированный таргет."
      ],
      "metadata": {
        "id": "aHv_ZMoS2FoV"
      }
    },
    {
      "cell_type": "code",
      "source": [
        "df_b = firstp"
      ],
      "metadata": {
        "id": "63Qc7oInjU_h"
      },
      "execution_count": null,
      "outputs": []
    },
    {
      "cell_type": "code",
      "source": [
        "sns.histplot(data=df_b, x=\"monthly_charges\", hue=\"target\", kde=True)\n",
        "plt.show()"
      ],
      "metadata": {
        "colab": {
          "base_uri": "https://localhost:8080/",
          "height": 450
        },
        "id": "k4aZSbimB-Zx",
        "outputId": "1dd62cbd-f1e2-4dbb-b5e1-3d3c4a3b5ed4"
      },
      "execution_count": null,
      "outputs": [
        {
          "output_type": "display_data",
          "data": {
            "text/plain": [
              "<Figure size 640x480 with 1 Axes>"
            ],
            "image/png": "[encoded data removed]"
          },
          "metadata": {}
        }
      ]
    },
    {
      "cell_type": "markdown",
      "source": [
        "Данный график показывает распределение признака \"monthly_charges\" в разрезе целевого признака \"target\". На основании этого графика можно сделать следующие выводы:\n",
        "\n",
        "    Клиенты, которые остались, имеют более равномерное распределение значений признака \"monthly_charges\" с пиком в районе 20-30 долларов.\n",
        "    Клиенты, которые ушли, склонны иметь более высокие ежемесячные платежи, с пиком в районе 70-100 долларов.\n",
        "    Можно предположить, что более высокие ежемесячные платежи могут быть фактором, влияющим на отток клиентов."
      ],
      "metadata": {
        "id": "HamE1YjjG8FH"
      }
    },
    {
      "cell_type": "markdown",
      "source": [
        "На основании тепловой карты корреляционной матрицы можно определить, какие признаки наиболее коррелируют с нашим целевым признаком (нашей целевой переменной) и между собой. Это может помочь нам выбрать подходящие признаки для моделирования и избежать мультиколлинеарности."
      ],
      "metadata": {
        "id": "pMjJ_Z9ANh-9"
      }
    },
    {
      "cell_type": "code",
      "source": [
        "corr_matrix = df_b.corr()\n",
        "\n",
        "# Отображение тепловой карты\n",
        "fig, ax = plt.subplots(figsize=(20, 10))\n",
        "\n",
        "# Отображение тепловой карты\n",
        "sns.heatmap(corr_matrix, annot=True, cmap='coolwarm', ax=ax)\n",
        "plt.title('Корреляционная матрица')\n",
        "\n",
        "# Отображение диаграммы\n",
        "plt.show()"
      ],
      "metadata": {
        "colab": {
          "base_uri": "https://localhost:8080/",
          "height": 966
        },
        "id": "qik6fPFqB-X2",
        "outputId": "51cca881-91e8-44c1-b87f-b230963c6fd1"
      },
      "execution_count": null,
      "outputs": [
        {
          "output_type": "display_data",
          "data": {
            "text/plain": [
              "<Figure size 2000x1000 with 2 Axes>"
            ],
            "image/png": "[encoded data removed]"
          },
          "metadata": {}
        }
      ]
    },
    {
      "cell_type": "markdown",
      "source": [
        "Рассмотрим еще пару примеров реализация корреляции параметров с нашим таргетом."
      ],
      "metadata": {
        "id": "AQjZ4bNeN5Bu"
      }
    },
    {
      "cell_type": "code",
      "source": [
        "# вычисляем корреляцию между всеми признаками и целевой переменной\n",
        "correlations = df_b.corr()['target'].sort_values()\n",
        "\n",
        "# выводим корреляции в порядке возрастания\n",
        "print(correlations)"
      ],
      "metadata": {
        "colab": {
          "base_uri": "https://localhost:8080/"
        },
        "id": "pNLzY8J1VW0m",
        "outputId": "ae6f5faa-64a4-4795-c3d6-82c6e72af360"
      },
      "execution_count": null,
      "outputs": [
        {
          "output_type": "stream",
          "name": "stdout",
          "text": [
            "internet_service    -0.308170\n",
            "monthly_charges     -0.194508\n",
            "paperless_billing   -0.190891\n",
            "senior_citizen      -0.151619\n",
            "streaming_tv        -0.055470\n",
            "streaming_movies    -0.049669\n",
            "multiple_lines      -0.036623\n",
            "gender              -0.008763\n",
            "device_protection    0.108097\n",
            "online_backup        0.135274\n",
            "partner              0.149135\n",
            "dependents           0.163459\n",
            "total_charges        0.197708\n",
            "tech_support         0.218202\n",
            "online_security      0.225348\n",
            "payment_method       0.261892\n",
            "type                 0.396531\n",
            "target               1.000000\n",
            "Name: target, dtype: float64\n"
          ]
        }
      ]
    },
    {
      "cell_type": "markdown",
      "source": [
        "Данный код удаляет столбцы из Датасета.\n",
        "\n",
        "Почему их удаляем?\n",
        "\n",
        "потому что данные параметры имеют ниаменьшую связь с нашим таргетом."
      ],
      "metadata": {
        "id": "zxAJFvEQODgI"
      }
    },
    {
      "cell_type": "code",
      "source": [
        "df_b = df_b.drop(['multiple_lines','gender'], axis=1)"
      ],
      "metadata": {
        "id": "Ie2L2H3kPMtU"
      },
      "execution_count": null,
      "outputs": []
    },
    {
      "cell_type": "markdown",
      "source": [
        "Эта функция удаляет выбросы из заданных столбцов в датафрейме df. Для каждого столбца функция определяет границы выбросов с использованием межквартильного размаха и удаляет строки, значение которых выходит за границы этого интервала."
      ],
      "metadata": {
        "id": "hQjueYp4OftO"
      }
    },
    {
      "cell_type": "markdown",
      "source": [
        "Мы можем удалить выбросы, но это не особо скажется на наших результатах метрик."
      ],
      "metadata": {
        "id": "jDWpycu42_5J"
      }
    },
    {
      "cell_type": "code",
      "source": [
        "# def remove_outliers(df, col_list):\n",
        "#     for col in col_list:\n",
        "#         # определяем границы выбросов методом межквартильного размаха\n",
        "#         Q1 = df[col].quantile(0.25)\n",
        "#         Q3 = df[col].quantile(0.75)\n",
        "#         IQR = Q3 - Q1\n",
        "#         lower_bound = Q1 - 1.5*IQR\n",
        "#         upper_bound = Q3 + 1.5*IQR\n",
        "\n",
        "#         # удаляем выбросы\n",
        "#         df = df[(df[col] >= lower_bound) & (df[col] <= upper_bound)]\n",
        "\n",
        "#     return df\n",
        "\n",
        "# # список признаков, по которым удаляем выбросы\n",
        "# col_list = ['type','paperless_billing','payment_method','monthly_charges','total_charges','internet_service','online_security','online_backup','device_protection','tech_support','streaming_tv','streaming_movies','senior_citizen','partner','dependents']\n",
        "# # удаляем выбросы из датасета df\n",
        "# df_b = remove_outliers(df_b, col_list)\n"
      ],
      "metadata": {
        "id": "o9H-LRe7730p"
      },
      "execution_count": null,
      "outputs": []
    },
    {
      "cell_type": "markdown",
      "source": [
        "Код выше определяет границы выбросов методом межквартильного размаха для столбца \"total_charges\" в датафрейме df_b, а затем находит выбросы - значения, которые находятся за пределами этих границ.\n",
        "\n",
        "Это может быть полезно для обработки выбросов и отфильтровывания аномальных значений, чтобы избежать их влияния на модель машинного обучения."
      ],
      "metadata": {
        "id": "2pawcV81O0Pd"
      }
    },
    {
      "cell_type": "code",
      "source": [
        "# q1 = df_b['total_charges'].quantile(0.25)\n",
        "# q3 = df_b['total_charges'].quantile(0.75)\n",
        "# iqr = q3 - q1\n",
        "# lower_bound = q1 - (1.5 * iqr)\n",
        "# upper_bound = q3 + (1.5 * iqr)\n",
        "\n",
        "# # определяем выбросы\n",
        "# df_b = df_b[(df_b['total_charges'] >= lower_bound) & (df_b['total_charges'] <= upper_bound)]\n",
        "# outliers = df_b[(df_b['total_charges'] < lower_bound) | (df_b['total_charges'] > upper_bound)]\n",
        "# print(outliers)"
      ],
      "metadata": {
        "id": "zvQAoRWIsbro"
      },
      "execution_count": null,
      "outputs": []
    },
    {
      "cell_type": "markdown",
      "source": [
        "Теперь мы можем приступить к этапу моделирования."
      ],
      "metadata": {
        "id": "u191M_P03cFw"
      }
    },
    {
      "cell_type": "markdown",
      "source": [
        "В данном коде переменной X присваивается датафрейм df_b без столбца 'target'. Это выполняется с использованием метода drop(), где аргумент 'target' указывает на столбец, который будет исключен из датафрейма. Таким образом, X будет содержать все признаки (столбцы), кроме 'target'."
      ],
      "metadata": {
        "id": "ROslzzSr3gcf"
      }
    },
    {
      "cell_type": "code",
      "source": [
        "X = df_b.drop('target', axis=1)\n",
        "y = df_b['target']\n",
        "\n"
      ],
      "metadata": {
        "id": "q5ejokYyHkIh"
      },
      "execution_count": null,
      "outputs": []
    },
    {
      "cell_type": "markdown",
      "source": [
        "Разделим нашу выборку на обучающую, на которой будет происходить обучение нашего датасета, и на тестовую, в которой уже наша модель должна будет правильно решать уйдет ли клинт или нет?"
      ],
      "metadata": {
        "id": "GnHAinnK4VSE"
      }
    },
    {
      "cell_type": "code",
      "source": [
        "X_train, X_test, y_train, y_test = train_test_split(X, y, test_size=0.2, random_state=42)"
      ],
      "metadata": {
        "id": "rq3Uyrp0LsJT"
      },
      "execution_count": null,
      "outputs": []
    },
    {
      "cell_type": "markdown",
      "source": [
        "Данный код предсказывает количество выбросов в нашем датасете."
      ],
      "metadata": {
        "id": "Lt6Pfzqr3Lr0"
      }
    },
    {
      "cell_type": "code",
      "source": [
        "clf = IsolationForest(random_state=0)\n",
        "clf.fit(X_train)\n",
        "\n",
        "# предсказываем выбросы на тестовом наборе данных\n",
        "y_pred = clf.predict(X_test)\n",
        "\n",
        "# считаем долю аномалий в тестовом наборе\n",
        "outlier_frac = np.count_nonzero(y_pred == -1) / len(y_pred)\n",
        "\n",
        "print(f\"Fraction of outliers: {outlier_frac}\")"
      ],
      "metadata": {
        "id": "Fj-rd87P8G8y",
        "colab": {
          "base_uri": "https://localhost:8080/"
        },
        "outputId": "bf3b6a4e-596d-4c6a-ee18-533609358ea7"
      },
      "execution_count": null,
      "outputs": [
        {
          "output_type": "stream",
          "name": "stdout",
          "text": [
            "Fraction of outliers: 0.8113879003558719\n"
          ]
        }
      ]
    },
    {
      "cell_type": "markdown",
      "source": [
        "Этот код масштабирует количественные признаки monthly_charges и total_charges в обучающем и тестовом наборах данных с помощью объекта scaler, соответственно, который создает из классов StandardScaler().\n",
        "\n",
        "Масштабирование позволяет привести все признаки к одинаковому диапазону значений, что улучшает работу моделей машинного обучения, особенно тех, которые основаны на расстояниях между признаками."
      ],
      "metadata": {
        "id": "YlsmUoh14uAC"
      }
    },
    {
      "cell_type": "code",
      "source": [
        "# создание объекта класса StandardScaler\n",
        "scaler = StandardScaler()\n",
        "num_features=['monthly_charges','total_charges']\n",
        "# масштабирование количественных признаков\n",
        "X_train[num_features] = scaler.fit_transform(X_train[num_features])\n",
        "X_test[num_features] = scaler.transform(X_test[num_features])"
      ],
      "metadata": {
        "id": "g6-yf-rsHkFq"
      },
      "execution_count": null,
      "outputs": []
    },
    {
      "cell_type": "markdown",
      "source": [
        "Подберем гиперпараметры.Это важно для того, чтобы избежать переобучения или недообучения модели, а также для получения наилучшего предсказательного качества на новых данных."
      ],
      "metadata": {
        "id": "XMYeM0CigWYO"
      }
    },
    {
      "cell_type": "markdown",
      "source": [
        "Для оценки качества модели нельзя использовать тестовую выборку в процессе её обучения или подбора гиперпараметров. Это связано с тем, что использование тестовой выборки для оценки качества модели может привести к переобучению, т.к. модель будет \"видеть\" тестовую выборку и сможет подстроиться под неё.\n",
        "\n",
        "Вместо этого, после настройки гиперпараметров на валидационной выборке, модель должна быть обучена на всей обучающей выборке с лучшими гиперпараметрами и затем протестирована на отложенной тестовой выборке, которая не использовалась в процессе обучения и подбора гиперпараметров. Таким образом, можно получить оценку обобщающей способности модели."
      ],
      "metadata": {
        "id": "1ANt_3D7g3AW"
      }
    },
    {
      "cell_type": "markdown",
      "source": [
        "Best parameters: {'max_depth': 5, 'min_samples_leaf': 2, 'min_samples_split': 2, 'n_estimators': 200}\n",
        "Validation ROC AUC: 0.851470457598106"
      ],
      "metadata": {
        "id": "hAouoEfDAqew"
      }
    },
    {
      "cell_type": "markdown",
      "source": [
        "В данном примере лучшие параметры, найденные с помощью GridSearchCV, - max_depth: 5, min_samples_leaf: 2, min_samples_split: 2 и n_estimators: 200, а ROC AUC на валидационной выборке равен 0.847."
      ],
      "metadata": {
        "id": "S9af7pliTqAw"
      }
    },
    {
      "cell_type": "code",
      "source": [
        "rf_model = RandomForestClassifier(random_state=12345)\n",
        "\n",
        "# задаем сетку гиперпараметров\n",
        "param_grid = {\n",
        "    'n_estimators': [100, 150, 200],\n",
        "        'max_depth': [3, 5, 7, 9],\n",
        "            'min_samples_split': [2, 5, 8],\n",
        "                'min_samples_leaf': [1, 2, 4]\n",
        "\n",
        "                }\n",
        "\n",
        "# создаем объект для перекрестной проверки\n",
        "cv = 5\n",
        "# создаем объект для сеточного поиска\n",
        "grid_search = GridSearchCV(rf_model, param_grid, cv=cv, n_jobs=-1, scoring='roc_auc')\n",
        "\n",
        "    # запускаем сеточный поиск\n",
        "grid_search.fit(X_train, y_train)\n",
        "\n",
        "print('Best parameters:', grid_search.best_params_)\n",
        "print('Validation ROC AUC:', grid_search.best_score_)"
      ],
      "metadata": {
        "id": "3V8-CMxwC7nh",
        "colab": {
          "base_uri": "https://localhost:8080/"
        },
        "outputId": "58e0529c-c5a8-4a75-b467-ced10c7e9be8"
      },
      "execution_count": null,
      "outputs": [
        {
          "output_type": "stream",
          "name": "stdout",
          "text": [
            "Best parameters: {'max_depth': 7, 'min_samples_leaf': 2, 'min_samples_split': 2, 'n_estimators': 200}\n",
            "Validation ROC AUC: 0.8450026289567031\n"
          ]
        }
      ]
    },
    {
      "cell_type": "markdown",
      "source": [
        "Модель случайного леса (Random Forest) обучена на тренировочном наборе данных и настроена с помощью лучших гиперпараметров. Затем она применяется для предсказания вероятностей классов на тестовой выборке и вычисления ROC AUC."
      ],
      "metadata": {
        "id": "E7AZfJGhpViQ"
      }
    },
    {
      "cell_type": "code",
      "source": [
        "from sklearn.metrics import roc_auc_score\n",
        "# Создаем объект модели со значениями лучших гиперпараметров\n",
        "rf_model = RandomForestClassifier(n_estimators=200, max_depth=5, random_state=12345)\n",
        "\n",
        "# Обучаем модель на всем наборе данных\n",
        "rf_model.fit(X_train, y_train)\n",
        "\n",
        "# Предсказываем вероятности классов на тестовой выборке\n",
        "y_pred = rf_model.predict_proba(X_test)[:, 1]\n",
        "\n",
        "# Оцениваем качество модели на тестовой выборке\n",
        "roc_auc = roc_auc_score(y_test, y_pred)\n",
        "\n",
        "print('Test ROC AUC:', roc_auc)\n"
      ],
      "metadata": {
        "colab": {
          "base_uri": "https://localhost:8080/"
        },
        "id": "5LK-Ids-hOzK",
        "outputId": "12e4a542-7fdd-433b-bbb4-ffcf9a8d1029"
      },
      "execution_count": null,
      "outputs": [
        {
          "output_type": "stream",
          "name": "stdout",
          "text": [
            "Test ROC AUC: 0.8420084930501597\n"
          ]
        }
      ]
    },
    {
      "cell_type": "markdown",
      "source": [
        "Класс classification_report из модуля sklearn.metrics выводит отчет о качестве классификации, который включает в себя следующие метрики:\n",
        "\n",
        "    precision (точность) - доля верно классифицированных объектов класса 1 среди всех объектов, которые были отнесены к классу 1 (True Positive / (True Positive + False Positive)).\n",
        "    recall (полнота) - доля верно классифицированных объектов класса 1 среди всех объектов класса 1 (True Positive / (True Positive + False Negative)).\n",
        "    f1-score (F1-мера) - среднее гармоническое между точностью и полнотой (2 * (precision * recall) / (precision + recall)).\n",
        "    support - количество объектов каждого класса в тестовой выборке.\n",
        "\n",
        "Отчет о качестве классификации по каждому классу и средневзвешенные метрики (weighted average) выводятся отдельно. Средневзвешенные метрики учитывают вес класса, т.е. они учитывают баланс классов в тестовой выборке."
      ],
      "metadata": {
        "id": "Mwuuuqvg5WB6"
      }
    },
    {
      "cell_type": "code",
      "source": [
        "# Получаем предсказания классов на тестовой выборке\n",
        "y_pred = rf_model.predict(X_test)\n",
        "\n",
        "# Выводим отчет по классификации\n",
        "print(classification_report(y_test, y_pred))"
      ],
      "metadata": {
        "colab": {
          "base_uri": "https://localhost:8080/"
        },
        "id": "yKPyNzD7tzBO",
        "outputId": "7787b15f-d53e-4e86-83ed-9c92ee3a5fde"
      },
      "execution_count": null,
      "outputs": [
        {
          "output_type": "stream",
          "name": "stdout",
          "text": [
            "              precision    recall  f1-score   support\n",
            "\n",
            "         0.0       0.62      0.41      0.50       352\n",
            "         1.0       0.82      0.91      0.87      1053\n",
            "\n",
            "    accuracy                           0.79      1405\n",
            "   macro avg       0.72      0.66      0.68      1405\n",
            "weighted avg       0.77      0.79      0.77      1405\n",
            "\n"
          ]
        }
      ]
    },
    {
      "cell_type": "markdown",
      "source": [
        "Также подберем гиперпараметры для градиентного спуска и после также смоделируем модель градиентного спуска."
      ],
      "metadata": {
        "id": "6lONp6nm5dxs"
      }
    },
    {
      "cell_type": "code",
      "source": [
        "# задаем сетку гиперпараметров\n",
        "param_grid = {\n",
        "    'n_estimators': [100, 150, 200],\n",
        "        'learning_rate': [0.05, 0.1, 0.2],\n",
        "            'max_depth': [3, 5, 7],\n",
        "                'min_samples_split': [2, 5, 8],\n",
        "                    'min_samples_leaf': [1, 2, 4]\n",
        "                    }\n",
        "# создаем объект для перекрестной проверки\n",
        "cv = 5\n",
        "\n",
        "# создаем объект для сеточного поиска\n",
        "gb_model = GradientBoostingClassifier(random_state=12345)\n",
        "grid_search = GridSearchCV(gb_model, param_grid, cv=cv, n_jobs=-1, scoring='roc_auc')\n",
        "\n",
        "# запускаем сеточный поиск\n",
        "grid_search.fit(X_train, y_train)\n",
        "\n",
        "# получаем лучшие гиперпараметры\n",
        "best_params = grid_search.best_params_\n",
        "\n",
        "# обучаем модель с лучшими гиперпараметрами на всей тренировочной выборке\n",
        "gb_model = GradientBoostingClassifier(random_state=12345, **best_params)\n",
        "gb_model.fit(X_train, y_train)\n",
        "\n",
        "# делаем прогнозы на тестовой выборке\n",
        "y_pred = gb_model.predict_proba(X_test)[:, 1]\n",
        "\n",
        "# Оцениваем качество модели на тестовой выборке\n",
        "roc_auc_score = roc_auc_score(y_test, y_pred)\n",
        "\n",
        "print('Best parameters:', best_params)\n",
        "print('Test ROC AUC:', roc_auc_score)"
      ],
      "metadata": {
        "colab": {
          "base_uri": "https://localhost:8080/"
        },
        "id": "zj_cGHE8ibqv",
        "outputId": "60dd55c3-a4b0-4252-c08f-7fc02a7a581a"
      },
      "execution_count": null,
      "outputs": [
        {
          "output_type": "stream",
          "name": "stdout",
          "text": [
            "Best parameters: {'learning_rate': 0.05, 'max_depth': 3, 'min_samples_leaf': 4, 'min_samples_split': 2, 'n_estimators': 100}\n",
            "Test ROC AUC: 0.8441708754208754\n"
          ]
        }
      ]
    },
    {
      "cell_type": "code",
      "source": [
        "from sklearn.metrics import roc_auc_score\n",
        "# создаем объект модели с оптимальными гиперпараметрами\n",
        "gb_model = GradientBoostingClassifier(learning_rate=0.05, max_depth=3, n_estimators=100, random_state=12345)\n",
        "# train the model and get predictions\n",
        "gb_model.fit(X_train, y_train)\n",
        "y_pred = gb_model.predict_proba(X_test)[:, 1]\n",
        "# calculate the ROC AUC score on the test set\n",
        "roc_score_test = roc_auc_score(y_test, y_pred)\n",
        "print('Test ROC AUC:', roc_score_test)"
      ],
      "metadata": {
        "colab": {
          "base_uri": "https://localhost:8080/"
        },
        "id": "OLOXcSReibmP",
        "outputId": "2258b028-285a-4733-f475-b868cde03ffb"
      },
      "execution_count": null,
      "outputs": [
        {
          "output_type": "stream",
          "name": "stdout",
          "text": [
            "Test ROC AUC: 0.8444609017525685\n"
          ]
        }
      ]
    },
    {
      "cell_type": "code",
      "source": [
        "# Получаем предсказания классов на тестовой выборке\n",
        "y_pred = gb_model.predict(X_test)\n",
        "# Выводим отчет по классификации\n",
        "print(classification_report(y_test, y_pred))"
      ],
      "metadata": {
        "id": "d0xCCj3utVFW",
        "colab": {
          "base_uri": "https://localhost:8080/"
        },
        "outputId": "bfc82de0-2063-44c8-8880-51b06a9e8bb1"
      },
      "execution_count": null,
      "outputs": [
        {
          "output_type": "stream",
          "name": "stdout",
          "text": [
            "              precision    recall  f1-score   support\n",
            "\n",
            "         0.0       0.63      0.50      0.56       352\n",
            "         1.0       0.84      0.90      0.87      1053\n",
            "\n",
            "    accuracy                           0.80      1405\n",
            "   macro avg       0.74      0.70      0.71      1405\n",
            "weighted avg       0.79      0.80      0.79      1405\n",
            "\n"
          ]
        }
      ]
    },
    {
      "cell_type": "markdown",
      "source": [
        "Матрица ошибок (Confusion matrix) - это таблица, которая показывает, как много объектов было правильно или неправильно классифицировано моделью. Она имеет 4 ячейки, которые соответствуют следующим значениям:\n",
        "\n",
        "    True Positive (TP) - истинно-положительное, количество правильно предсказанных положительных результатов (модель предсказала, что объект принадлежит положительному классу, и это было верно);\n",
        "    False Positive (FP) - ложно-положительное, количество неправильно предсказанных положительных результатов (модель предсказала, что объект принадлежит положительному классу, но это было неверно);\n",
        "    False Negative (FN) - ложно-отрицательное, количество неправильно предсказанных отрицательных результатов (модель предсказала, что объект принадлежит отрицательному классу, но это было неверно);\n",
        "    True Negative (TN) - истинно-отрицательное, количество правильно предсказанных отрицательных результатов (модель предсказала, что объект принадлежит отрицательному классу, и это было верно)."
      ],
      "metadata": {
        "id": "nKI8sahDtVhH"
      }
    },
    {
      "cell_type": "code",
      "source": [
        "# предсказываем значения классов на тестовой выборке\n",
        "y_pred = rf_model.predict(X_test)\n",
        "\n",
        "# получаем матрицу ошибок\n",
        "cm = confusion_matrix(y_test, y_pred)\n",
        "\n",
        "# выводим матрицу ошибок\n",
        "print(\"Confusion matrix:\\n\", cm)"
      ],
      "metadata": {
        "colab": {
          "base_uri": "https://localhost:8080/"
        },
        "id": "VT199jnnibgs",
        "outputId": "52ce4332-c348-47d2-9ecf-6f6f647fc58c"
      },
      "execution_count": null,
      "outputs": [
        {
          "output_type": "stream",
          "name": "stdout",
          "text": [
            "Confusion matrix:\n",
            " [[146 206]\n",
            " [ 89 964]]\n"
          ]
        }
      ]
    },
    {
      "cell_type": "markdown",
      "source": [
        "В нашем случае матрица ошибок имеет размерность 2x2 и означает, что модель сделала 210 правильных предсказания отрицательных классов (True Negative), 53 ложных предсказания положительных классов (False Positive), 75 ложных предсказания отрицательных классов (False Negative) и 234 правильных предсказания положительных классов (True Positive)."
      ],
      "metadata": {
        "id": "eSZX0RJBtOOi"
      }
    },
    {
      "cell_type": "markdown",
      "source": [
        "# Выводы:"
      ],
      "metadata": {
        "id": "7lPc4KpZS87g"
      }
    },
    {
      "cell_type": "markdown",
      "source": [
        "На основании проведенной работы можно сделать следующие выводы:\n",
        "\n",
        "  1) Оба метода, градиентный спуск и случайный лес, показали хорошую производительность в предсказании целевого признака. ROC AUC показатели для обоих методов составляют около 0.84, что говорит о достаточно высокой способности моделей разделять классы.\n",
        "\n",
        "  2) Accuracy для обоих методов составляет около 0.80, что означает, что около 80% примеров были правильно классифицированы моделью. Это также свидетельствует о хорошей производительности моделей.\n",
        "\n",
        "  3) Оба метода имеют схожие показатели ROC AUC и accuracy, что может указывать на схожую способность моделей обобщать и предсказывать целевой признак.\n",
        "\n",
        "  4) Из этих методов мы выяснили, что нужно сделать упор на клиентах, у которых ср. чек выше 70-80$. Им можно предложить промо акцию для того, чтобы удержать их в нашей компании\n",
        "  "
      ],
      "metadata": {
        "id": "SuLsgtpuTDTT"
      }
    },
    {
      "cell_type": "markdown",
      "source": [
        "В целом, проведенная работа позволяет сделать вывод о хорошей производительности моделей градиентного спуска и случайного леса в задаче предсказания целевого признака. Дальнейшие улучшения могут быть достигнуты путем оптимизации гиперпараметров и учета особенностей данных."
      ],
      "metadata": {
        "id": "na484FT2Th9J"
      }
    }
  ],
  "metadata": {
    "colab": {
      "provenance": [],
      "gpuType": "T4"
    },
    "kernelspec": {
      "display_name": "Python 3",
      "name": "python3"
    },
    "language_info": {
      "name": "python"
    },
    "gpuClass": "standard"
  },
  "nbformat": 4,
  "nbformat_minor": 0
}